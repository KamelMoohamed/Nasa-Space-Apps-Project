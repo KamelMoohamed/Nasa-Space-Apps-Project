{
  "nbformat": 4,
  "nbformat_minor": 0,
  "metadata": {
    "colab": {
      "provenance": [],
      "collapsed_sections": []
    },
    "kernelspec": {
      "name": "python3",
      "display_name": "Python 3"
    },
    "language_info": {
      "name": "python"
    },
    "accelerator": "GPU"
  },
  "cells": [
    {
      "cell_type": "code",
      "execution_count": null,
      "metadata": {
        "id": "ZM8bJLkIo7GO"
      },
      "outputs": [],
      "source": [
        "import tensorflow as tf\n",
        "import os\n",
        "import pandas as pd\n",
        "import numpy as np"
      ]
    },
    {
      "cell_type": "code",
      "source": [
        "df= pd.read_csv(\"/content/drive/MyDrive/Nasa_Space_Apps/data.csv\",index_col=0)\n",
        "df= df.drop([\"Range\",\"Label\"],axis=1)\n",
        "df=df.drop(\"Unnamed: 0.1\", axis=1)\n",
        "df[\"time\"]= pd.to_datetime(df[\"time\"])\n",
        "df.index= df[\"time\"]\n",
        "df=df.drop(\"time\",axis=1)\n",
        "df"
      ],
      "metadata": {
        "colab": {
          "base_uri": "https://localhost:8080/",
          "height": 455
        },
        "id": "3S4AhmRCo_at",
        "outputId": "50bf9b7b-d5aa-4bd7-cd31-ff9fbdc919b0"
      },
      "execution_count": null,
      "outputs": [
        {
          "output_type": "execute_result",
          "data": {
            "text/plain": [
              "                        BGSM1     BGSM2     BGSM3     BGSE1     BGSE2  \\\n",
              "time                                                                    \n",
              "2003-08-02 00:00:00 -4.026208  2.746652 -3.180378 -4.026194  2.446195   \n",
              "2003-08-02 00:20:00 -4.817634  1.867184 -2.034130 -4.817625  1.660636   \n",
              "2003-08-02 00:40:00 -5.015400  1.871090 -0.376598 -5.015398  1.818871   \n",
              "2003-08-02 01:00:00 -5.219594  1.665034 -0.166770 -5.219593  1.634691   \n",
              "2003-08-02 01:20:00 -4.009341  2.692525 -0.827312 -4.009337  2.568638   \n",
              "...                       ...       ...       ...       ...       ...   \n",
              "2021-10-02 22:00:00 -3.001255  2.242306  0.813602 -3.001244  2.370445   \n",
              "2021-10-02 22:20:00 -3.091604  2.217035  0.827192 -3.091593  2.348637   \n",
              "2021-10-02 22:40:00 -2.842662  2.096434  1.483598 -2.842642  2.383809   \n",
              "2021-10-02 23:00:00 -2.677102  2.119549  1.720208 -2.677079  2.462327   \n",
              "2021-10-02 23:20:00 -2.786466  2.344785  1.557776 -2.786444  2.646010   \n",
              "\n",
              "                        BGSE3  \n",
              "time                           \n",
              "2003-08-02 00:00:00 -3.416094  \n",
              "2003-08-02 00:20:00 -2.207846  \n",
              "2003-08-02 00:40:00 -0.571951  \n",
              "2003-08-02 01:00:00 -0.357167  \n",
              "2003-08-02 01:20:00 -1.156507  \n",
              "...                       ...  \n",
              "2021-10-02 22:00:00  0.266437  \n",
              "2021-10-02 22:20:00  0.288937  \n",
              "2021-10-02 22:40:00  0.955910  \n",
              "2021-10-02 23:00:00  1.178078  \n",
              "2021-10-02 23:20:00  0.961490  \n",
              "\n",
              "[32652 rows x 6 columns]"
            ],
            "text/html": [
              "\n",
              "  <div id=\"df-0c18cf77-03c8-40ab-b4d8-f66ff73d4f3b\">\n",
              "    <div class=\"colab-df-container\">\n",
              "      <div>\n",
              "<style scoped>\n",
              "    .dataframe tbody tr th:only-of-type {\n",
              "        vertical-align: middle;\n",
              "    }\n",
              "\n",
              "    .dataframe tbody tr th {\n",
              "        vertical-align: top;\n",
              "    }\n",
              "\n",
              "    .dataframe thead th {\n",
              "        text-align: right;\n",
              "    }\n",
              "</style>\n",
              "<table border=\"1\" class=\"dataframe\">\n",
              "  <thead>\n",
              "    <tr style=\"text-align: right;\">\n",
              "      <th></th>\n",
              "      <th>BGSM1</th>\n",
              "      <th>BGSM2</th>\n",
              "      <th>BGSM3</th>\n",
              "      <th>BGSE1</th>\n",
              "      <th>BGSE2</th>\n",
              "      <th>BGSE3</th>\n",
              "    </tr>\n",
              "    <tr>\n",
              "      <th>time</th>\n",
              "      <th></th>\n",
              "      <th></th>\n",
              "      <th></th>\n",
              "      <th></th>\n",
              "      <th></th>\n",
              "      <th></th>\n",
              "    </tr>\n",
              "  </thead>\n",
              "  <tbody>\n",
              "    <tr>\n",
              "      <th>2003-08-02 00:00:00</th>\n",
              "      <td>-4.026208</td>\n",
              "      <td>2.746652</td>\n",
              "      <td>-3.180378</td>\n",
              "      <td>-4.026194</td>\n",
              "      <td>2.446195</td>\n",
              "      <td>-3.416094</td>\n",
              "    </tr>\n",
              "    <tr>\n",
              "      <th>2003-08-02 00:20:00</th>\n",
              "      <td>-4.817634</td>\n",
              "      <td>1.867184</td>\n",
              "      <td>-2.034130</td>\n",
              "      <td>-4.817625</td>\n",
              "      <td>1.660636</td>\n",
              "      <td>-2.207846</td>\n",
              "    </tr>\n",
              "    <tr>\n",
              "      <th>2003-08-02 00:40:00</th>\n",
              "      <td>-5.015400</td>\n",
              "      <td>1.871090</td>\n",
              "      <td>-0.376598</td>\n",
              "      <td>-5.015398</td>\n",
              "      <td>1.818871</td>\n",
              "      <td>-0.571951</td>\n",
              "    </tr>\n",
              "    <tr>\n",
              "      <th>2003-08-02 01:00:00</th>\n",
              "      <td>-5.219594</td>\n",
              "      <td>1.665034</td>\n",
              "      <td>-0.166770</td>\n",
              "      <td>-5.219593</td>\n",
              "      <td>1.634691</td>\n",
              "      <td>-0.357167</td>\n",
              "    </tr>\n",
              "    <tr>\n",
              "      <th>2003-08-02 01:20:00</th>\n",
              "      <td>-4.009341</td>\n",
              "      <td>2.692525</td>\n",
              "      <td>-0.827312</td>\n",
              "      <td>-4.009337</td>\n",
              "      <td>2.568638</td>\n",
              "      <td>-1.156507</td>\n",
              "    </tr>\n",
              "    <tr>\n",
              "      <th>...</th>\n",
              "      <td>...</td>\n",
              "      <td>...</td>\n",
              "      <td>...</td>\n",
              "      <td>...</td>\n",
              "      <td>...</td>\n",
              "      <td>...</td>\n",
              "    </tr>\n",
              "    <tr>\n",
              "      <th>2021-10-02 22:00:00</th>\n",
              "      <td>-3.001255</td>\n",
              "      <td>2.242306</td>\n",
              "      <td>0.813602</td>\n",
              "      <td>-3.001244</td>\n",
              "      <td>2.370445</td>\n",
              "      <td>0.266437</td>\n",
              "    </tr>\n",
              "    <tr>\n",
              "      <th>2021-10-02 22:20:00</th>\n",
              "      <td>-3.091604</td>\n",
              "      <td>2.217035</td>\n",
              "      <td>0.827192</td>\n",
              "      <td>-3.091593</td>\n",
              "      <td>2.348637</td>\n",
              "      <td>0.288937</td>\n",
              "    </tr>\n",
              "    <tr>\n",
              "      <th>2021-10-02 22:40:00</th>\n",
              "      <td>-2.842662</td>\n",
              "      <td>2.096434</td>\n",
              "      <td>1.483598</td>\n",
              "      <td>-2.842642</td>\n",
              "      <td>2.383809</td>\n",
              "      <td>0.955910</td>\n",
              "    </tr>\n",
              "    <tr>\n",
              "      <th>2021-10-02 23:00:00</th>\n",
              "      <td>-2.677102</td>\n",
              "      <td>2.119549</td>\n",
              "      <td>1.720208</td>\n",
              "      <td>-2.677079</td>\n",
              "      <td>2.462327</td>\n",
              "      <td>1.178078</td>\n",
              "    </tr>\n",
              "    <tr>\n",
              "      <th>2021-10-02 23:20:00</th>\n",
              "      <td>-2.786466</td>\n",
              "      <td>2.344785</td>\n",
              "      <td>1.557776</td>\n",
              "      <td>-2.786444</td>\n",
              "      <td>2.646010</td>\n",
              "      <td>0.961490</td>\n",
              "    </tr>\n",
              "  </tbody>\n",
              "</table>\n",
              "<p>32652 rows × 6 columns</p>\n",
              "</div>\n",
              "      <button class=\"colab-df-convert\" onclick=\"convertToInteractive('df-0c18cf77-03c8-40ab-b4d8-f66ff73d4f3b')\"\n",
              "              title=\"Convert this dataframe to an interactive table.\"\n",
              "              style=\"display:none;\">\n",
              "        \n",
              "  <svg xmlns=\"http://www.w3.org/2000/svg\" height=\"24px\"viewBox=\"0 0 24 24\"\n",
              "       width=\"24px\">\n",
              "    <path d=\"M0 0h24v24H0V0z\" fill=\"none\"/>\n",
              "    <path d=\"M18.56 5.44l.94 2.06.94-2.06 2.06-.94-2.06-.94-.94-2.06-.94 2.06-2.06.94zm-11 1L8.5 8.5l.94-2.06 2.06-.94-2.06-.94L8.5 2.5l-.94 2.06-2.06.94zm10 10l.94 2.06.94-2.06 2.06-.94-2.06-.94-.94-2.06-.94 2.06-2.06.94z\"/><path d=\"M17.41 7.96l-1.37-1.37c-.4-.4-.92-.59-1.43-.59-.52 0-1.04.2-1.43.59L10.3 9.45l-7.72 7.72c-.78.78-.78 2.05 0 2.83L4 21.41c.39.39.9.59 1.41.59.51 0 1.02-.2 1.41-.59l7.78-7.78 2.81-2.81c.8-.78.8-2.07 0-2.86zM5.41 20L4 18.59l7.72-7.72 1.47 1.35L5.41 20z\"/>\n",
              "  </svg>\n",
              "      </button>\n",
              "      \n",
              "  <style>\n",
              "    .colab-df-container {\n",
              "      display:flex;\n",
              "      flex-wrap:wrap;\n",
              "      gap: 12px;\n",
              "    }\n",
              "\n",
              "    .colab-df-convert {\n",
              "      background-color: #E8F0FE;\n",
              "      border: none;\n",
              "      border-radius: 50%;\n",
              "      cursor: pointer;\n",
              "      display: none;\n",
              "      fill: #1967D2;\n",
              "      height: 32px;\n",
              "      padding: 0 0 0 0;\n",
              "      width: 32px;\n",
              "    }\n",
              "\n",
              "    .colab-df-convert:hover {\n",
              "      background-color: #E2EBFA;\n",
              "      box-shadow: 0px 1px 2px rgba(60, 64, 67, 0.3), 0px 1px 3px 1px rgba(60, 64, 67, 0.15);\n",
              "      fill: #174EA6;\n",
              "    }\n",
              "\n",
              "    [theme=dark] .colab-df-convert {\n",
              "      background-color: #3B4455;\n",
              "      fill: #D2E3FC;\n",
              "    }\n",
              "\n",
              "    [theme=dark] .colab-df-convert:hover {\n",
              "      background-color: #434B5C;\n",
              "      box-shadow: 0px 1px 3px 1px rgba(0, 0, 0, 0.15);\n",
              "      filter: drop-shadow(0px 1px 2px rgba(0, 0, 0, 0.3));\n",
              "      fill: #FFFFFF;\n",
              "    }\n",
              "  </style>\n",
              "\n",
              "      <script>\n",
              "        const buttonEl =\n",
              "          document.querySelector('#df-0c18cf77-03c8-40ab-b4d8-f66ff73d4f3b button.colab-df-convert');\n",
              "        buttonEl.style.display =\n",
              "          google.colab.kernel.accessAllowed ? 'block' : 'none';\n",
              "\n",
              "        async function convertToInteractive(key) {\n",
              "          const element = document.querySelector('#df-0c18cf77-03c8-40ab-b4d8-f66ff73d4f3b');\n",
              "          const dataTable =\n",
              "            await google.colab.kernel.invokeFunction('convertToInteractive',\n",
              "                                                     [key], {});\n",
              "          if (!dataTable) return;\n",
              "\n",
              "          const docLinkHtml = 'Like what you see? Visit the ' +\n",
              "            '<a target=\"_blank\" href=https://colab.research.google.com/notebooks/data_table.ipynb>data table notebook</a>'\n",
              "            + ' to learn more about interactive tables.';\n",
              "          element.innerHTML = '';\n",
              "          dataTable['output_type'] = 'display_data';\n",
              "          await google.colab.output.renderOutput(dataTable, element);\n",
              "          const docLink = document.createElement('div');\n",
              "          docLink.innerHTML = docLinkHtml;\n",
              "          element.appendChild(docLink);\n",
              "        }\n",
              "      </script>\n",
              "    </div>\n",
              "  </div>\n",
              "  "
            ]
          },
          "metadata": {},
          "execution_count": 2
        }
      ]
    },
    {
      "cell_type": "code",
      "source": [
        "df['Seconds'] = df.index.map(pd.Timestamp.timestamp)\n",
        "df"
      ],
      "metadata": {
        "colab": {
          "base_uri": "https://localhost:8080/",
          "height": 455
        },
        "id": "PpGhUSRqG6rW",
        "outputId": "2732efcc-6b5d-4b1e-8828-3a712b3ba808"
      },
      "execution_count": null,
      "outputs": [
        {
          "output_type": "execute_result",
          "data": {
            "text/plain": [
              "                        BGSM1     BGSM2     BGSM3     BGSE1     BGSE2  \\\n",
              "time                                                                    \n",
              "2003-08-02 00:00:00 -4.026208  2.746652 -3.180378 -4.026194  2.446195   \n",
              "2003-08-02 00:20:00 -4.817634  1.867184 -2.034130 -4.817625  1.660636   \n",
              "2003-08-02 00:40:00 -5.015400  1.871090 -0.376598 -5.015398  1.818871   \n",
              "2003-08-02 01:00:00 -5.219594  1.665034 -0.166770 -5.219593  1.634691   \n",
              "2003-08-02 01:20:00 -4.009341  2.692525 -0.827312 -4.009337  2.568638   \n",
              "...                       ...       ...       ...       ...       ...   \n",
              "2021-10-02 22:00:00 -3.001255  2.242306  0.813602 -3.001244  2.370445   \n",
              "2021-10-02 22:20:00 -3.091604  2.217035  0.827192 -3.091593  2.348637   \n",
              "2021-10-02 22:40:00 -2.842662  2.096434  1.483598 -2.842642  2.383809   \n",
              "2021-10-02 23:00:00 -2.677102  2.119549  1.720208 -2.677079  2.462327   \n",
              "2021-10-02 23:20:00 -2.786466  2.344785  1.557776 -2.786444  2.646010   \n",
              "\n",
              "                        BGSE3       Seconds  \n",
              "time                                         \n",
              "2003-08-02 00:00:00 -3.416094  1.059782e+09  \n",
              "2003-08-02 00:20:00 -2.207846  1.059784e+09  \n",
              "2003-08-02 00:40:00 -0.571951  1.059785e+09  \n",
              "2003-08-02 01:00:00 -0.357167  1.059786e+09  \n",
              "2003-08-02 01:20:00 -1.156507  1.059787e+09  \n",
              "...                       ...           ...  \n",
              "2021-10-02 22:00:00  0.266437  1.633212e+09  \n",
              "2021-10-02 22:20:00  0.288937  1.633213e+09  \n",
              "2021-10-02 22:40:00  0.955910  1.633214e+09  \n",
              "2021-10-02 23:00:00  1.178078  1.633216e+09  \n",
              "2021-10-02 23:20:00  0.961490  1.633217e+09  \n",
              "\n",
              "[32652 rows x 7 columns]"
            ],
            "text/html": [
              "\n",
              "  <div id=\"df-94b576f8-9965-4d85-bce6-96d78cfe621f\">\n",
              "    <div class=\"colab-df-container\">\n",
              "      <div>\n",
              "<style scoped>\n",
              "    .dataframe tbody tr th:only-of-type {\n",
              "        vertical-align: middle;\n",
              "    }\n",
              "\n",
              "    .dataframe tbody tr th {\n",
              "        vertical-align: top;\n",
              "    }\n",
              "\n",
              "    .dataframe thead th {\n",
              "        text-align: right;\n",
              "    }\n",
              "</style>\n",
              "<table border=\"1\" class=\"dataframe\">\n",
              "  <thead>\n",
              "    <tr style=\"text-align: right;\">\n",
              "      <th></th>\n",
              "      <th>BGSM1</th>\n",
              "      <th>BGSM2</th>\n",
              "      <th>BGSM3</th>\n",
              "      <th>BGSE1</th>\n",
              "      <th>BGSE2</th>\n",
              "      <th>BGSE3</th>\n",
              "      <th>Seconds</th>\n",
              "    </tr>\n",
              "    <tr>\n",
              "      <th>time</th>\n",
              "      <th></th>\n",
              "      <th></th>\n",
              "      <th></th>\n",
              "      <th></th>\n",
              "      <th></th>\n",
              "      <th></th>\n",
              "      <th></th>\n",
              "    </tr>\n",
              "  </thead>\n",
              "  <tbody>\n",
              "    <tr>\n",
              "      <th>2003-08-02 00:00:00</th>\n",
              "      <td>-4.026208</td>\n",
              "      <td>2.746652</td>\n",
              "      <td>-3.180378</td>\n",
              "      <td>-4.026194</td>\n",
              "      <td>2.446195</td>\n",
              "      <td>-3.416094</td>\n",
              "      <td>1.059782e+09</td>\n",
              "    </tr>\n",
              "    <tr>\n",
              "      <th>2003-08-02 00:20:00</th>\n",
              "      <td>-4.817634</td>\n",
              "      <td>1.867184</td>\n",
              "      <td>-2.034130</td>\n",
              "      <td>-4.817625</td>\n",
              "      <td>1.660636</td>\n",
              "      <td>-2.207846</td>\n",
              "      <td>1.059784e+09</td>\n",
              "    </tr>\n",
              "    <tr>\n",
              "      <th>2003-08-02 00:40:00</th>\n",
              "      <td>-5.015400</td>\n",
              "      <td>1.871090</td>\n",
              "      <td>-0.376598</td>\n",
              "      <td>-5.015398</td>\n",
              "      <td>1.818871</td>\n",
              "      <td>-0.571951</td>\n",
              "      <td>1.059785e+09</td>\n",
              "    </tr>\n",
              "    <tr>\n",
              "      <th>2003-08-02 01:00:00</th>\n",
              "      <td>-5.219594</td>\n",
              "      <td>1.665034</td>\n",
              "      <td>-0.166770</td>\n",
              "      <td>-5.219593</td>\n",
              "      <td>1.634691</td>\n",
              "      <td>-0.357167</td>\n",
              "      <td>1.059786e+09</td>\n",
              "    </tr>\n",
              "    <tr>\n",
              "      <th>2003-08-02 01:20:00</th>\n",
              "      <td>-4.009341</td>\n",
              "      <td>2.692525</td>\n",
              "      <td>-0.827312</td>\n",
              "      <td>-4.009337</td>\n",
              "      <td>2.568638</td>\n",
              "      <td>-1.156507</td>\n",
              "      <td>1.059787e+09</td>\n",
              "    </tr>\n",
              "    <tr>\n",
              "      <th>...</th>\n",
              "      <td>...</td>\n",
              "      <td>...</td>\n",
              "      <td>...</td>\n",
              "      <td>...</td>\n",
              "      <td>...</td>\n",
              "      <td>...</td>\n",
              "      <td>...</td>\n",
              "    </tr>\n",
              "    <tr>\n",
              "      <th>2021-10-02 22:00:00</th>\n",
              "      <td>-3.001255</td>\n",
              "      <td>2.242306</td>\n",
              "      <td>0.813602</td>\n",
              "      <td>-3.001244</td>\n",
              "      <td>2.370445</td>\n",
              "      <td>0.266437</td>\n",
              "      <td>1.633212e+09</td>\n",
              "    </tr>\n",
              "    <tr>\n",
              "      <th>2021-10-02 22:20:00</th>\n",
              "      <td>-3.091604</td>\n",
              "      <td>2.217035</td>\n",
              "      <td>0.827192</td>\n",
              "      <td>-3.091593</td>\n",
              "      <td>2.348637</td>\n",
              "      <td>0.288937</td>\n",
              "      <td>1.633213e+09</td>\n",
              "    </tr>\n",
              "    <tr>\n",
              "      <th>2021-10-02 22:40:00</th>\n",
              "      <td>-2.842662</td>\n",
              "      <td>2.096434</td>\n",
              "      <td>1.483598</td>\n",
              "      <td>-2.842642</td>\n",
              "      <td>2.383809</td>\n",
              "      <td>0.955910</td>\n",
              "      <td>1.633214e+09</td>\n",
              "    </tr>\n",
              "    <tr>\n",
              "      <th>2021-10-02 23:00:00</th>\n",
              "      <td>-2.677102</td>\n",
              "      <td>2.119549</td>\n",
              "      <td>1.720208</td>\n",
              "      <td>-2.677079</td>\n",
              "      <td>2.462327</td>\n",
              "      <td>1.178078</td>\n",
              "      <td>1.633216e+09</td>\n",
              "    </tr>\n",
              "    <tr>\n",
              "      <th>2021-10-02 23:20:00</th>\n",
              "      <td>-2.786466</td>\n",
              "      <td>2.344785</td>\n",
              "      <td>1.557776</td>\n",
              "      <td>-2.786444</td>\n",
              "      <td>2.646010</td>\n",
              "      <td>0.961490</td>\n",
              "      <td>1.633217e+09</td>\n",
              "    </tr>\n",
              "  </tbody>\n",
              "</table>\n",
              "<p>32652 rows × 7 columns</p>\n",
              "</div>\n",
              "      <button class=\"colab-df-convert\" onclick=\"convertToInteractive('df-94b576f8-9965-4d85-bce6-96d78cfe621f')\"\n",
              "              title=\"Convert this dataframe to an interactive table.\"\n",
              "              style=\"display:none;\">\n",
              "        \n",
              "  <svg xmlns=\"http://www.w3.org/2000/svg\" height=\"24px\"viewBox=\"0 0 24 24\"\n",
              "       width=\"24px\">\n",
              "    <path d=\"M0 0h24v24H0V0z\" fill=\"none\"/>\n",
              "    <path d=\"M18.56 5.44l.94 2.06.94-2.06 2.06-.94-2.06-.94-.94-2.06-.94 2.06-2.06.94zm-11 1L8.5 8.5l.94-2.06 2.06-.94-2.06-.94L8.5 2.5l-.94 2.06-2.06.94zm10 10l.94 2.06.94-2.06 2.06-.94-2.06-.94-.94-2.06-.94 2.06-2.06.94z\"/><path d=\"M17.41 7.96l-1.37-1.37c-.4-.4-.92-.59-1.43-.59-.52 0-1.04.2-1.43.59L10.3 9.45l-7.72 7.72c-.78.78-.78 2.05 0 2.83L4 21.41c.39.39.9.59 1.41.59.51 0 1.02-.2 1.41-.59l7.78-7.78 2.81-2.81c.8-.78.8-2.07 0-2.86zM5.41 20L4 18.59l7.72-7.72 1.47 1.35L5.41 20z\"/>\n",
              "  </svg>\n",
              "      </button>\n",
              "      \n",
              "  <style>\n",
              "    .colab-df-container {\n",
              "      display:flex;\n",
              "      flex-wrap:wrap;\n",
              "      gap: 12px;\n",
              "    }\n",
              "\n",
              "    .colab-df-convert {\n",
              "      background-color: #E8F0FE;\n",
              "      border: none;\n",
              "      border-radius: 50%;\n",
              "      cursor: pointer;\n",
              "      display: none;\n",
              "      fill: #1967D2;\n",
              "      height: 32px;\n",
              "      padding: 0 0 0 0;\n",
              "      width: 32px;\n",
              "    }\n",
              "\n",
              "    .colab-df-convert:hover {\n",
              "      background-color: #E2EBFA;\n",
              "      box-shadow: 0px 1px 2px rgba(60, 64, 67, 0.3), 0px 1px 3px 1px rgba(60, 64, 67, 0.15);\n",
              "      fill: #174EA6;\n",
              "    }\n",
              "\n",
              "    [theme=dark] .colab-df-convert {\n",
              "      background-color: #3B4455;\n",
              "      fill: #D2E3FC;\n",
              "    }\n",
              "\n",
              "    [theme=dark] .colab-df-convert:hover {\n",
              "      background-color: #434B5C;\n",
              "      box-shadow: 0px 1px 3px 1px rgba(0, 0, 0, 0.15);\n",
              "      filter: drop-shadow(0px 1px 2px rgba(0, 0, 0, 0.3));\n",
              "      fill: #FFFFFF;\n",
              "    }\n",
              "  </style>\n",
              "\n",
              "      <script>\n",
              "        const buttonEl =\n",
              "          document.querySelector('#df-94b576f8-9965-4d85-bce6-96d78cfe621f button.colab-df-convert');\n",
              "        buttonEl.style.display =\n",
              "          google.colab.kernel.accessAllowed ? 'block' : 'none';\n",
              "\n",
              "        async function convertToInteractive(key) {\n",
              "          const element = document.querySelector('#df-94b576f8-9965-4d85-bce6-96d78cfe621f');\n",
              "          const dataTable =\n",
              "            await google.colab.kernel.invokeFunction('convertToInteractive',\n",
              "                                                     [key], {});\n",
              "          if (!dataTable) return;\n",
              "\n",
              "          const docLinkHtml = 'Like what you see? Visit the ' +\n",
              "            '<a target=\"_blank\" href=https://colab.research.google.com/notebooks/data_table.ipynb>data table notebook</a>'\n",
              "            + ' to learn more about interactive tables.';\n",
              "          element.innerHTML = '';\n",
              "          dataTable['output_type'] = 'display_data';\n",
              "          await google.colab.output.renderOutput(dataTable, element);\n",
              "          const docLink = document.createElement('div');\n",
              "          docLink.innerHTML = docLinkHtml;\n",
              "          element.appendChild(docLink);\n",
              "        }\n",
              "      </script>\n",
              "    </div>\n",
              "  </div>\n",
              "  "
            ]
          },
          "metadata": {},
          "execution_count": 3
        }
      ]
    },
    {
      "cell_type": "code",
      "source": [
        "day = 60*60*24\n",
        "year = 365.2425*day\n",
        "\n",
        "df['day_sin'] = np.sin(df['Seconds'] * (2* np.pi / day))\n",
        "df['day_cos'] = np.cos(df['Seconds'] * (2 * np.pi / day))\n",
        "df['year_sin'] = np.sin(df['Seconds'] * (2 * np.pi / year))\n",
        "df['year_cos'] = np.cos(df['Seconds'] * (2 * np.pi / year))\n",
        "df.head()"
      ],
      "metadata": {
        "colab": {
          "base_uri": "https://localhost:8080/",
          "height": 238
        },
        "id": "mGMfgD3ZHI_6",
        "outputId": "7be249cd-b849-4b59-89d1-e60cae064565"
      },
      "execution_count": null,
      "outputs": [
        {
          "output_type": "execute_result",
          "data": {
            "text/plain": [
              "                        BGSM1     BGSM2     BGSM3     BGSE1     BGSE2  \\\n",
              "time                                                                    \n",
              "2003-08-02 00:00:00 -4.026208  2.746652 -3.180378 -4.026194  2.446195   \n",
              "2003-08-02 00:20:00 -4.817634  1.867184 -2.034130 -4.817625  1.660636   \n",
              "2003-08-02 00:40:00 -5.015400  1.871090 -0.376598 -5.015398  1.818871   \n",
              "2003-08-02 01:00:00 -5.219594  1.665034 -0.166770 -5.219593  1.634691   \n",
              "2003-08-02 01:20:00 -4.009341  2.692525 -0.827312 -4.009337  2.568638   \n",
              "\n",
              "                        BGSE3       Seconds       day_sin   day_cos  year_sin  \\\n",
              "time                                                                            \n",
              "2003-08-02 00:00:00 -3.416094  1.059782e+09 -1.026605e-11  1.000000 -0.499097   \n",
              "2003-08-02 00:20:00 -2.207846  1.059784e+09  8.715574e-02  0.996195 -0.499304   \n",
              "2003-08-02 00:40:00 -0.571951  1.059785e+09  1.736482e-01  0.984808 -0.499511   \n",
              "2003-08-02 01:00:00 -0.357167  1.059786e+09  2.588190e-01  0.965926 -0.499718   \n",
              "2003-08-02 01:20:00 -1.156507  1.059787e+09  3.420201e-01  0.939693 -0.499924   \n",
              "\n",
              "                     year_cos  \n",
              "time                           \n",
              "2003-08-02 00:00:00 -0.866546  \n",
              "2003-08-02 00:20:00 -0.866427  \n",
              "2003-08-02 00:40:00 -0.866308  \n",
              "2003-08-02 01:00:00 -0.866188  \n",
              "2003-08-02 01:20:00 -0.866069  "
            ],
            "text/html": [
              "\n",
              "  <div id=\"df-269f922f-9d8a-4077-875c-bf131c680a6c\">\n",
              "    <div class=\"colab-df-container\">\n",
              "      <div>\n",
              "<style scoped>\n",
              "    .dataframe tbody tr th:only-of-type {\n",
              "        vertical-align: middle;\n",
              "    }\n",
              "\n",
              "    .dataframe tbody tr th {\n",
              "        vertical-align: top;\n",
              "    }\n",
              "\n",
              "    .dataframe thead th {\n",
              "        text-align: right;\n",
              "    }\n",
              "</style>\n",
              "<table border=\"1\" class=\"dataframe\">\n",
              "  <thead>\n",
              "    <tr style=\"text-align: right;\">\n",
              "      <th></th>\n",
              "      <th>BGSM1</th>\n",
              "      <th>BGSM2</th>\n",
              "      <th>BGSM3</th>\n",
              "      <th>BGSE1</th>\n",
              "      <th>BGSE2</th>\n",
              "      <th>BGSE3</th>\n",
              "      <th>Seconds</th>\n",
              "      <th>day_sin</th>\n",
              "      <th>day_cos</th>\n",
              "      <th>year_sin</th>\n",
              "      <th>year_cos</th>\n",
              "    </tr>\n",
              "    <tr>\n",
              "      <th>time</th>\n",
              "      <th></th>\n",
              "      <th></th>\n",
              "      <th></th>\n",
              "      <th></th>\n",
              "      <th></th>\n",
              "      <th></th>\n",
              "      <th></th>\n",
              "      <th></th>\n",
              "      <th></th>\n",
              "      <th></th>\n",
              "      <th></th>\n",
              "    </tr>\n",
              "  </thead>\n",
              "  <tbody>\n",
              "    <tr>\n",
              "      <th>2003-08-02 00:00:00</th>\n",
              "      <td>-4.026208</td>\n",
              "      <td>2.746652</td>\n",
              "      <td>-3.180378</td>\n",
              "      <td>-4.026194</td>\n",
              "      <td>2.446195</td>\n",
              "      <td>-3.416094</td>\n",
              "      <td>1.059782e+09</td>\n",
              "      <td>-1.026605e-11</td>\n",
              "      <td>1.000000</td>\n",
              "      <td>-0.499097</td>\n",
              "      <td>-0.866546</td>\n",
              "    </tr>\n",
              "    <tr>\n",
              "      <th>2003-08-02 00:20:00</th>\n",
              "      <td>-4.817634</td>\n",
              "      <td>1.867184</td>\n",
              "      <td>-2.034130</td>\n",
              "      <td>-4.817625</td>\n",
              "      <td>1.660636</td>\n",
              "      <td>-2.207846</td>\n",
              "      <td>1.059784e+09</td>\n",
              "      <td>8.715574e-02</td>\n",
              "      <td>0.996195</td>\n",
              "      <td>-0.499304</td>\n",
              "      <td>-0.866427</td>\n",
              "    </tr>\n",
              "    <tr>\n",
              "      <th>2003-08-02 00:40:00</th>\n",
              "      <td>-5.015400</td>\n",
              "      <td>1.871090</td>\n",
              "      <td>-0.376598</td>\n",
              "      <td>-5.015398</td>\n",
              "      <td>1.818871</td>\n",
              "      <td>-0.571951</td>\n",
              "      <td>1.059785e+09</td>\n",
              "      <td>1.736482e-01</td>\n",
              "      <td>0.984808</td>\n",
              "      <td>-0.499511</td>\n",
              "      <td>-0.866308</td>\n",
              "    </tr>\n",
              "    <tr>\n",
              "      <th>2003-08-02 01:00:00</th>\n",
              "      <td>-5.219594</td>\n",
              "      <td>1.665034</td>\n",
              "      <td>-0.166770</td>\n",
              "      <td>-5.219593</td>\n",
              "      <td>1.634691</td>\n",
              "      <td>-0.357167</td>\n",
              "      <td>1.059786e+09</td>\n",
              "      <td>2.588190e-01</td>\n",
              "      <td>0.965926</td>\n",
              "      <td>-0.499718</td>\n",
              "      <td>-0.866188</td>\n",
              "    </tr>\n",
              "    <tr>\n",
              "      <th>2003-08-02 01:20:00</th>\n",
              "      <td>-4.009341</td>\n",
              "      <td>2.692525</td>\n",
              "      <td>-0.827312</td>\n",
              "      <td>-4.009337</td>\n",
              "      <td>2.568638</td>\n",
              "      <td>-1.156507</td>\n",
              "      <td>1.059787e+09</td>\n",
              "      <td>3.420201e-01</td>\n",
              "      <td>0.939693</td>\n",
              "      <td>-0.499924</td>\n",
              "      <td>-0.866069</td>\n",
              "    </tr>\n",
              "  </tbody>\n",
              "</table>\n",
              "</div>\n",
              "      <button class=\"colab-df-convert\" onclick=\"convertToInteractive('df-269f922f-9d8a-4077-875c-bf131c680a6c')\"\n",
              "              title=\"Convert this dataframe to an interactive table.\"\n",
              "              style=\"display:none;\">\n",
              "        \n",
              "  <svg xmlns=\"http://www.w3.org/2000/svg\" height=\"24px\"viewBox=\"0 0 24 24\"\n",
              "       width=\"24px\">\n",
              "    <path d=\"M0 0h24v24H0V0z\" fill=\"none\"/>\n",
              "    <path d=\"M18.56 5.44l.94 2.06.94-2.06 2.06-.94-2.06-.94-.94-2.06-.94 2.06-2.06.94zm-11 1L8.5 8.5l.94-2.06 2.06-.94-2.06-.94L8.5 2.5l-.94 2.06-2.06.94zm10 10l.94 2.06.94-2.06 2.06-.94-2.06-.94-.94-2.06-.94 2.06-2.06.94z\"/><path d=\"M17.41 7.96l-1.37-1.37c-.4-.4-.92-.59-1.43-.59-.52 0-1.04.2-1.43.59L10.3 9.45l-7.72 7.72c-.78.78-.78 2.05 0 2.83L4 21.41c.39.39.9.59 1.41.59.51 0 1.02-.2 1.41-.59l7.78-7.78 2.81-2.81c.8-.78.8-2.07 0-2.86zM5.41 20L4 18.59l7.72-7.72 1.47 1.35L5.41 20z\"/>\n",
              "  </svg>\n",
              "      </button>\n",
              "      \n",
              "  <style>\n",
              "    .colab-df-container {\n",
              "      display:flex;\n",
              "      flex-wrap:wrap;\n",
              "      gap: 12px;\n",
              "    }\n",
              "\n",
              "    .colab-df-convert {\n",
              "      background-color: #E8F0FE;\n",
              "      border: none;\n",
              "      border-radius: 50%;\n",
              "      cursor: pointer;\n",
              "      display: none;\n",
              "      fill: #1967D2;\n",
              "      height: 32px;\n",
              "      padding: 0 0 0 0;\n",
              "      width: 32px;\n",
              "    }\n",
              "\n",
              "    .colab-df-convert:hover {\n",
              "      background-color: #E2EBFA;\n",
              "      box-shadow: 0px 1px 2px rgba(60, 64, 67, 0.3), 0px 1px 3px 1px rgba(60, 64, 67, 0.15);\n",
              "      fill: #174EA6;\n",
              "    }\n",
              "\n",
              "    [theme=dark] .colab-df-convert {\n",
              "      background-color: #3B4455;\n",
              "      fill: #D2E3FC;\n",
              "    }\n",
              "\n",
              "    [theme=dark] .colab-df-convert:hover {\n",
              "      background-color: #434B5C;\n",
              "      box-shadow: 0px 1px 3px 1px rgba(0, 0, 0, 0.15);\n",
              "      filter: drop-shadow(0px 1px 2px rgba(0, 0, 0, 0.3));\n",
              "      fill: #FFFFFF;\n",
              "    }\n",
              "  </style>\n",
              "\n",
              "      <script>\n",
              "        const buttonEl =\n",
              "          document.querySelector('#df-269f922f-9d8a-4077-875c-bf131c680a6c button.colab-df-convert');\n",
              "        buttonEl.style.display =\n",
              "          google.colab.kernel.accessAllowed ? 'block' : 'none';\n",
              "\n",
              "        async function convertToInteractive(key) {\n",
              "          const element = document.querySelector('#df-269f922f-9d8a-4077-875c-bf131c680a6c');\n",
              "          const dataTable =\n",
              "            await google.colab.kernel.invokeFunction('convertToInteractive',\n",
              "                                                     [key], {});\n",
              "          if (!dataTable) return;\n",
              "\n",
              "          const docLinkHtml = 'Like what you see? Visit the ' +\n",
              "            '<a target=\"_blank\" href=https://colab.research.google.com/notebooks/data_table.ipynb>data table notebook</a>'\n",
              "            + ' to learn more about interactive tables.';\n",
              "          element.innerHTML = '';\n",
              "          dataTable['output_type'] = 'display_data';\n",
              "          await google.colab.output.renderOutput(dataTable, element);\n",
              "          const docLink = document.createElement('div');\n",
              "          docLink.innerHTML = docLinkHtml;\n",
              "          element.appendChild(docLink);\n",
              "        }\n",
              "      </script>\n",
              "    </div>\n",
              "  </div>\n",
              "  "
            ]
          },
          "metadata": {},
          "execution_count": 4
        }
      ]
    },
    {
      "cell_type": "code",
      "source": [
        "df = df.drop('Seconds', axis=1)\n",
        "df.head()"
      ],
      "metadata": {
        "colab": {
          "base_uri": "https://localhost:8080/",
          "height": 238
        },
        "id": "kdMC8b5DH2vz",
        "outputId": "90dc8d62-059a-436a-93ed-6d18beb67dfc"
      },
      "execution_count": null,
      "outputs": [
        {
          "output_type": "execute_result",
          "data": {
            "text/plain": [
              "                        BGSM1     BGSM2     BGSM3     BGSE1     BGSE2  \\\n",
              "time                                                                    \n",
              "2003-08-02 00:00:00 -4.026208  2.746652 -3.180378 -4.026194  2.446195   \n",
              "2003-08-02 00:20:00 -4.817634  1.867184 -2.034130 -4.817625  1.660636   \n",
              "2003-08-02 00:40:00 -5.015400  1.871090 -0.376598 -5.015398  1.818871   \n",
              "2003-08-02 01:00:00 -5.219594  1.665034 -0.166770 -5.219593  1.634691   \n",
              "2003-08-02 01:20:00 -4.009341  2.692525 -0.827312 -4.009337  2.568638   \n",
              "\n",
              "                        BGSE3       day_sin   day_cos  year_sin  year_cos  \n",
              "time                                                                       \n",
              "2003-08-02 00:00:00 -3.416094 -1.026605e-11  1.000000 -0.499097 -0.866546  \n",
              "2003-08-02 00:20:00 -2.207846  8.715574e-02  0.996195 -0.499304 -0.866427  \n",
              "2003-08-02 00:40:00 -0.571951  1.736482e-01  0.984808 -0.499511 -0.866308  \n",
              "2003-08-02 01:00:00 -0.357167  2.588190e-01  0.965926 -0.499718 -0.866188  \n",
              "2003-08-02 01:20:00 -1.156507  3.420201e-01  0.939693 -0.499924 -0.866069  "
            ],
            "text/html": [
              "\n",
              "  <div id=\"df-ee79a1c0-1ac6-45df-b196-deb301a11e4b\">\n",
              "    <div class=\"colab-df-container\">\n",
              "      <div>\n",
              "<style scoped>\n",
              "    .dataframe tbody tr th:only-of-type {\n",
              "        vertical-align: middle;\n",
              "    }\n",
              "\n",
              "    .dataframe tbody tr th {\n",
              "        vertical-align: top;\n",
              "    }\n",
              "\n",
              "    .dataframe thead th {\n",
              "        text-align: right;\n",
              "    }\n",
              "</style>\n",
              "<table border=\"1\" class=\"dataframe\">\n",
              "  <thead>\n",
              "    <tr style=\"text-align: right;\">\n",
              "      <th></th>\n",
              "      <th>BGSM1</th>\n",
              "      <th>BGSM2</th>\n",
              "      <th>BGSM3</th>\n",
              "      <th>BGSE1</th>\n",
              "      <th>BGSE2</th>\n",
              "      <th>BGSE3</th>\n",
              "      <th>day_sin</th>\n",
              "      <th>day_cos</th>\n",
              "      <th>year_sin</th>\n",
              "      <th>year_cos</th>\n",
              "    </tr>\n",
              "    <tr>\n",
              "      <th>time</th>\n",
              "      <th></th>\n",
              "      <th></th>\n",
              "      <th></th>\n",
              "      <th></th>\n",
              "      <th></th>\n",
              "      <th></th>\n",
              "      <th></th>\n",
              "      <th></th>\n",
              "      <th></th>\n",
              "      <th></th>\n",
              "    </tr>\n",
              "  </thead>\n",
              "  <tbody>\n",
              "    <tr>\n",
              "      <th>2003-08-02 00:00:00</th>\n",
              "      <td>-4.026208</td>\n",
              "      <td>2.746652</td>\n",
              "      <td>-3.180378</td>\n",
              "      <td>-4.026194</td>\n",
              "      <td>2.446195</td>\n",
              "      <td>-3.416094</td>\n",
              "      <td>-1.026605e-11</td>\n",
              "      <td>1.000000</td>\n",
              "      <td>-0.499097</td>\n",
              "      <td>-0.866546</td>\n",
              "    </tr>\n",
              "    <tr>\n",
              "      <th>2003-08-02 00:20:00</th>\n",
              "      <td>-4.817634</td>\n",
              "      <td>1.867184</td>\n",
              "      <td>-2.034130</td>\n",
              "      <td>-4.817625</td>\n",
              "      <td>1.660636</td>\n",
              "      <td>-2.207846</td>\n",
              "      <td>8.715574e-02</td>\n",
              "      <td>0.996195</td>\n",
              "      <td>-0.499304</td>\n",
              "      <td>-0.866427</td>\n",
              "    </tr>\n",
              "    <tr>\n",
              "      <th>2003-08-02 00:40:00</th>\n",
              "      <td>-5.015400</td>\n",
              "      <td>1.871090</td>\n",
              "      <td>-0.376598</td>\n",
              "      <td>-5.015398</td>\n",
              "      <td>1.818871</td>\n",
              "      <td>-0.571951</td>\n",
              "      <td>1.736482e-01</td>\n",
              "      <td>0.984808</td>\n",
              "      <td>-0.499511</td>\n",
              "      <td>-0.866308</td>\n",
              "    </tr>\n",
              "    <tr>\n",
              "      <th>2003-08-02 01:00:00</th>\n",
              "      <td>-5.219594</td>\n",
              "      <td>1.665034</td>\n",
              "      <td>-0.166770</td>\n",
              "      <td>-5.219593</td>\n",
              "      <td>1.634691</td>\n",
              "      <td>-0.357167</td>\n",
              "      <td>2.588190e-01</td>\n",
              "      <td>0.965926</td>\n",
              "      <td>-0.499718</td>\n",
              "      <td>-0.866188</td>\n",
              "    </tr>\n",
              "    <tr>\n",
              "      <th>2003-08-02 01:20:00</th>\n",
              "      <td>-4.009341</td>\n",
              "      <td>2.692525</td>\n",
              "      <td>-0.827312</td>\n",
              "      <td>-4.009337</td>\n",
              "      <td>2.568638</td>\n",
              "      <td>-1.156507</td>\n",
              "      <td>3.420201e-01</td>\n",
              "      <td>0.939693</td>\n",
              "      <td>-0.499924</td>\n",
              "      <td>-0.866069</td>\n",
              "    </tr>\n",
              "  </tbody>\n",
              "</table>\n",
              "</div>\n",
              "      <button class=\"colab-df-convert\" onclick=\"convertToInteractive('df-ee79a1c0-1ac6-45df-b196-deb301a11e4b')\"\n",
              "              title=\"Convert this dataframe to an interactive table.\"\n",
              "              style=\"display:none;\">\n",
              "        \n",
              "  <svg xmlns=\"http://www.w3.org/2000/svg\" height=\"24px\"viewBox=\"0 0 24 24\"\n",
              "       width=\"24px\">\n",
              "    <path d=\"M0 0h24v24H0V0z\" fill=\"none\"/>\n",
              "    <path d=\"M18.56 5.44l.94 2.06.94-2.06 2.06-.94-2.06-.94-.94-2.06-.94 2.06-2.06.94zm-11 1L8.5 8.5l.94-2.06 2.06-.94-2.06-.94L8.5 2.5l-.94 2.06-2.06.94zm10 10l.94 2.06.94-2.06 2.06-.94-2.06-.94-.94-2.06-.94 2.06-2.06.94z\"/><path d=\"M17.41 7.96l-1.37-1.37c-.4-.4-.92-.59-1.43-.59-.52 0-1.04.2-1.43.59L10.3 9.45l-7.72 7.72c-.78.78-.78 2.05 0 2.83L4 21.41c.39.39.9.59 1.41.59.51 0 1.02-.2 1.41-.59l7.78-7.78 2.81-2.81c.8-.78.8-2.07 0-2.86zM5.41 20L4 18.59l7.72-7.72 1.47 1.35L5.41 20z\"/>\n",
              "  </svg>\n",
              "      </button>\n",
              "      \n",
              "  <style>\n",
              "    .colab-df-container {\n",
              "      display:flex;\n",
              "      flex-wrap:wrap;\n",
              "      gap: 12px;\n",
              "    }\n",
              "\n",
              "    .colab-df-convert {\n",
              "      background-color: #E8F0FE;\n",
              "      border: none;\n",
              "      border-radius: 50%;\n",
              "      cursor: pointer;\n",
              "      display: none;\n",
              "      fill: #1967D2;\n",
              "      height: 32px;\n",
              "      padding: 0 0 0 0;\n",
              "      width: 32px;\n",
              "    }\n",
              "\n",
              "    .colab-df-convert:hover {\n",
              "      background-color: #E2EBFA;\n",
              "      box-shadow: 0px 1px 2px rgba(60, 64, 67, 0.3), 0px 1px 3px 1px rgba(60, 64, 67, 0.15);\n",
              "      fill: #174EA6;\n",
              "    }\n",
              "\n",
              "    [theme=dark] .colab-df-convert {\n",
              "      background-color: #3B4455;\n",
              "      fill: #D2E3FC;\n",
              "    }\n",
              "\n",
              "    [theme=dark] .colab-df-convert:hover {\n",
              "      background-color: #434B5C;\n",
              "      box-shadow: 0px 1px 3px 1px rgba(0, 0, 0, 0.15);\n",
              "      filter: drop-shadow(0px 1px 2px rgba(0, 0, 0, 0.3));\n",
              "      fill: #FFFFFF;\n",
              "    }\n",
              "  </style>\n",
              "\n",
              "      <script>\n",
              "        const buttonEl =\n",
              "          document.querySelector('#df-ee79a1c0-1ac6-45df-b196-deb301a11e4b button.colab-df-convert');\n",
              "        buttonEl.style.display =\n",
              "          google.colab.kernel.accessAllowed ? 'block' : 'none';\n",
              "\n",
              "        async function convertToInteractive(key) {\n",
              "          const element = document.querySelector('#df-ee79a1c0-1ac6-45df-b196-deb301a11e4b');\n",
              "          const dataTable =\n",
              "            await google.colab.kernel.invokeFunction('convertToInteractive',\n",
              "                                                     [key], {});\n",
              "          if (!dataTable) return;\n",
              "\n",
              "          const docLinkHtml = 'Like what you see? Visit the ' +\n",
              "            '<a target=\"_blank\" href=https://colab.research.google.com/notebooks/data_table.ipynb>data table notebook</a>'\n",
              "            + ' to learn more about interactive tables.';\n",
              "          element.innerHTML = '';\n",
              "          dataTable['output_type'] = 'display_data';\n",
              "          await google.colab.output.renderOutput(dataTable, element);\n",
              "          const docLink = document.createElement('div');\n",
              "          docLink.innerHTML = docLinkHtml;\n",
              "          element.appendChild(docLink);\n",
              "        }\n",
              "      </script>\n",
              "    </div>\n",
              "  </div>\n",
              "  "
            ]
          },
          "metadata": {},
          "execution_count": 5
        }
      ]
    },
    {
      "cell_type": "code",
      "source": [
        "def df_to_X_y3(df, window_size=70):\n",
        "  df_as_np = df.to_numpy()\n",
        "  X = []\n",
        "  y = []\n",
        "  time=[]\n",
        "  for i in range(len(df_as_np)-window_size):\n",
        "    row = [r for r in df_as_np[i:i+window_size]]\n",
        "    row_time = [r for r in df.index[i:i+window_size]]\n",
        "    X.append(row)\n",
        "    time.append(row_time)\n",
        "    label = df_as_np[i+window_size][:6]\n",
        "    y.append(label)\n",
        "  return np.array(X), np.array(y), np.array(time)"
      ],
      "metadata": {
        "id": "x-afDjYppMKQ"
      },
      "execution_count": null,
      "outputs": []
    },
    {
      "cell_type": "code",
      "source": [
        "X,y,time = df_to_X_y3(df)"
      ],
      "metadata": {
        "id": "gxxWfoGdpbZw"
      },
      "execution_count": null,
      "outputs": []
    },
    {
      "cell_type": "code",
      "source": [
        "X.shape, y.shape, time.shape"
      ],
      "metadata": {
        "colab": {
          "base_uri": "https://localhost:8080/"
        },
        "id": "PEDpsSF3Hq6x",
        "outputId": "9acfe356-4262-429d-82ac-2e56b67422a7"
      },
      "execution_count": null,
      "outputs": [
        {
          "output_type": "execute_result",
          "data": {
            "text/plain": [
              "((32582, 70, 10), (32582, 6), (32582, 70))"
            ]
          },
          "metadata": {},
          "execution_count": 8
        }
      ]
    },
    {
      "cell_type": "code",
      "source": [
        "X_train, y_train = X[:27000], y[:27000]\n",
        "X_test, y_test, time_test = X[27000:], y[27000:], time[27000:]\n",
        "X_train.shape, y_train.shape,  X_test.shape, y_test.shape, time_test.shape"
      ],
      "metadata": {
        "colab": {
          "base_uri": "https://localhost:8080/"
        },
        "id": "9jbRSPeNqQbd",
        "outputId": "c3ac85c7-8cd6-4fcf-ebd1-82c6296b7a2b"
      },
      "execution_count": null,
      "outputs": [
        {
          "output_type": "execute_result",
          "data": {
            "text/plain": [
              "((27000, 70, 10), (27000, 6), (5582, 70, 10), (5582, 6), (5582, 70))"
            ]
          },
          "metadata": {},
          "execution_count": 9
        }
      ]
    },
    {
      "cell_type": "code",
      "source": [
        "BGSM1_training_mean = np.mean(X_train[:, :, 0])\n",
        "BGSM1_training_std = np.std(X_train[:, :, 0])\n",
        "\n",
        "BGSM2_training_mean = np.mean(X_train[:, :, 1])\n",
        "BGSM2_training_std = np.std(X_train[:, :, 1])\n",
        "\n",
        "BGSM3_training_mean = np.mean(X_train[:, :, 2])\n",
        "BGSM3_training_std = np.std(X_train[:, :, 2])\n",
        "\n",
        "BGSM4_training_mean = np.mean(X_train[:, :, 3])\n",
        "BGSM4_training_std = np.std(X_train[:, :, 3])\n",
        "\n",
        "BGSM5_training_mean = np.mean(X_train[:, :, 4])\n",
        "BGSM5_training_std = np.std(X_train[:, :, 4])\n",
        "\n",
        "BGSM6_training_mean = np.mean(X_train[:, :, 5])\n",
        "BGSM6_training_std = np.std(X_train[:, :, 5])\n",
        "\n",
        "\n",
        "\n",
        "def preprocess(X):\n",
        "  X[:, :, 0] = (X[:, :, 0] - BGSM1_training_mean) / BGSM1_training_std\n",
        "  X[:, :, 1] = (X[:, :, 1] - BGSM2_training_mean) / BGSM2_training_std\n",
        "  X[:, :, 2] = (X[:, :, 2] - BGSM3_training_mean) / BGSM3_training_std\n",
        "  X[:, :, 3] = (X[:, :, 3] - BGSM4_training_mean) / BGSM4_training_std\n",
        "  X[:, :, 4] = (X[:, :, 4] - BGSM5_training_mean) / BGSM5_training_std\n",
        "  X[:, :, 5] = (X[:, :, 5] - BGSM6_training_mean) / BGSM6_training_std\n",
        "\n",
        "def preprocess_output(y):\n",
        "  y[:, 0] = (y[:, 0] - BGSM1_training_mean) / BGSM1_training_std\n",
        "  y[:, 1] = (y[:, 1] - BGSM2_training_mean) / BGSM2_training_std\n",
        "  y[:, 2] = (y[:, 2] - BGSM3_training_mean) / BGSM3_training_std\n",
        "  y[:, 3] = (y[:, 3] - BGSM4_training_mean) / BGSM4_training_std\n",
        "  y[:, 4] = (y[:, 4] - BGSM5_training_mean) / BGSM5_training_std\n",
        "  y[:, 5] = (y[:, 5] - BGSM6_training_mean) / BGSM6_training_std\n",
        "  return y"
      ],
      "metadata": {
        "id": "Q_pMNTRMqSFc"
      },
      "execution_count": null,
      "outputs": []
    },
    {
      "cell_type": "code",
      "source": [
        "preprocess(X_train)\n",
        "preprocess(X_test)"
      ],
      "metadata": {
        "id": "w1Dd5GXRsVMU"
      },
      "execution_count": null,
      "outputs": []
    },
    {
      "cell_type": "code",
      "source": [
        "preprocess_output(y_train)\n",
        "preprocess_output(y_test)"
      ],
      "metadata": {
        "colab": {
          "base_uri": "https://localhost:8080/"
        },
        "id": "i-WcO8Xesaog",
        "outputId": "ea8ed9a5-d981-4153-e55a-c3f3063788ef"
      },
      "execution_count": null,
      "outputs": [
        {
          "output_type": "execute_result",
          "data": {
            "text/plain": [
              "array([[ 0.14659609, -0.06901891,  0.16948943,  0.14658954, -0.0699851 ,\n",
              "         0.23083064],\n",
              "       [ 0.15040765, -0.06435641,  0.11973062,  0.15040313, -0.0657079 ,\n",
              "         0.179046  ],\n",
              "       [ 0.04693421, -0.12747066,  0.17228375,  0.04692761, -0.13379809,\n",
              "         0.22344981],\n",
              "       ...,\n",
              "       [-0.9102867 ,  0.70770001,  0.4449055 , -0.9102811 ,  0.80530912,\n",
              "         0.35281326],\n",
              "       [-0.86774629,  0.713551  ,  0.51346003, -0.86773988,  0.82574985,\n",
              "         0.41524675],\n",
              "       [-0.89584712,  0.77056375,  0.46639772, -0.89584125,  0.87356857,\n",
              "         0.35438121]])"
            ]
          },
          "metadata": {},
          "execution_count": 12
        }
      ]
    },
    {
      "cell_type": "code",
      "source": [
        "from tensorflow.keras.models import Sequential\n",
        "from tensorflow.keras.layers import *\n",
        "from tensorflow.keras.callbacks import ModelCheckpoint, EarlyStopping\n",
        "from tensorflow.keras.losses import MeanSquaredError\n",
        "from tensorflow.keras.metrics import RootMeanSquaredError\n",
        "from tensorflow.keras.optimizers import Adam\n",
        "\n",
        "\n",
        "\n",
        "\n",
        "model = Sequential()\n",
        "model.add(InputLayer((70, 10)))\n",
        "model.add(LSTM(256, return_sequences=True))\n",
        "model.add(Flatten())\n",
        "model.add(Dense(128,\"relu\"))\n",
        "model.add(Dropout(0.5))\n",
        "model.add(Dense(8, 'relu'))\n",
        "model.add(Dense(6, 'linear'))\n",
        "\n",
        "model.summary()"
      ],
      "metadata": {
        "colab": {
          "base_uri": "https://localhost:8080/"
        },
        "id": "UVMX3QXHseHG",
        "outputId": "1bfabc2b-73b3-4ca4-dfc0-3c849a43b00e"
      },
      "execution_count": null,
      "outputs": [
        {
          "output_type": "stream",
          "name": "stdout",
          "text": [
            "Model: \"sequential\"\n",
            "_________________________________________________________________\n",
            " Layer (type)                Output Shape              Param #   \n",
            "=================================================================\n",
            " lstm (LSTM)                 (None, 70, 256)           273408    \n",
            "                                                                 \n",
            " flatten (Flatten)           (None, 17920)             0         \n",
            "                                                                 \n",
            " dense (Dense)               (None, 128)               2293888   \n",
            "                                                                 \n",
            " dropout (Dropout)           (None, 128)               0         \n",
            "                                                                 \n",
            " dense_1 (Dense)             (None, 8)                 1032      \n",
            "                                                                 \n",
            " dense_2 (Dense)             (None, 6)                 54        \n",
            "                                                                 \n",
            "=================================================================\n",
            "Total params: 2,568,382\n",
            "Trainable params: 2,568,382\n",
            "Non-trainable params: 0\n",
            "_________________________________________________________________\n"
          ]
        }
      ]
    },
    {
      "cell_type": "code",
      "source": [
        "cp = ModelCheckpoint('model5/', save_best_only=True)\n",
        "es = EarlyStopping(monitor='val_loss', mode='min', verbose=1, patience=10)\n",
        "model.compile(loss=MeanSquaredError(), optimizer=Adam(learning_rate=0.0001), metrics=[RootMeanSquaredError()])"
      ],
      "metadata": {
        "id": "cT1TVHcss0Wg"
      },
      "execution_count": null,
      "outputs": []
    },
    {
      "cell_type": "code",
      "source": [
        "model.fit(X_train, y_train, validation_data=(X_test, y_test), epochs=50, batch_size= 70,callbacks=[cp,es])"
      ],
      "metadata": {
        "colab": {
          "base_uri": "https://localhost:8080/",
          "height": 1000
        },
        "id": "H_p3SDCHtL68",
        "outputId": "5cff07b0-5236-4e8e-ee35-d24a08688104"
      },
      "execution_count": null,
      "outputs": [
        {
          "output_type": "stream",
          "name": "stdout",
          "text": [
            "Epoch 1/50\n",
            "386/386 [==============================] - ETA: 0s - loss: 0.7398 - root_mean_squared_error: 0.8601"
          ]
        },
        {
          "output_type": "stream",
          "name": "stderr",
          "text": [
            "WARNING:absl:Found untraced functions such as lstm_cell_layer_call_fn, lstm_cell_layer_call_and_return_conditional_losses while saving (showing 2 of 2). These functions will not be directly callable after loading.\n",
            "WARNING:absl:<keras.layers.recurrent.LSTMCell object at 0x7f8bc6573810> has the same name 'LSTMCell' as a built-in Keras object. Consider renaming <class 'keras.layers.recurrent.LSTMCell'> to avoid naming conflicts when loading with `tf.keras.models.load_model`. If renaming is not possible, pass the object in the `custom_objects` parameter of the load function.\n"
          ]
        },
        {
          "output_type": "stream",
          "name": "stdout",
          "text": [
            "\b\b\b\b\b\b\b\b\b\b\b\b\b\b\b\b\b\b\b\b\b\b\b\b\b\b\b\b\b\b\b\b\b\b\b\b\b\b\b\b\b\b\b\b\b\b\b\b\b\b\b\b\b\b\b\b\b\b\b\b\b\b\b\b\b\b\b\b\b\b\b\b\b\b\b\b\b\b\b\b\b\b\b\b\b\b\b\b\b\b\b\b\b\b\b\b\b\b\b\r386/386 [==============================] - 144s 368ms/step - loss: 0.7398 - root_mean_squared_error: 0.8601 - val_loss: 0.5276 - val_root_mean_squared_error: 0.7264\n",
            "Epoch 2/50\n",
            "386/386 [==============================] - ETA: 0s - loss: 0.6049 - root_mean_squared_error: 0.7777"
          ]
        },
        {
          "output_type": "stream",
          "name": "stderr",
          "text": [
            "WARNING:absl:Found untraced functions such as lstm_cell_layer_call_fn, lstm_cell_layer_call_and_return_conditional_losses while saving (showing 2 of 2). These functions will not be directly callable after loading.\n",
            "WARNING:absl:<keras.layers.recurrent.LSTMCell object at 0x7f8bc6573810> has the same name 'LSTMCell' as a built-in Keras object. Consider renaming <class 'keras.layers.recurrent.LSTMCell'> to avoid naming conflicts when loading with `tf.keras.models.load_model`. If renaming is not possible, pass the object in the `custom_objects` parameter of the load function.\n"
          ]
        },
        {
          "output_type": "stream",
          "name": "stdout",
          "text": [
            "\b\b\b\b\b\b\b\b\b\b\b\b\b\b\b\b\b\b\b\b\b\b\b\b\b\b\b\b\b\b\b\b\b\b\b\b\b\b\b\b\b\b\b\b\b\b\b\b\b\b\b\b\b\b\b\b\b\b\b\b\b\b\b\b\b\b\b\b\b\b\b\b\b\b\b\b\b\b\b\b\b\b\b\b\b\b\b\b\b\b\b\b\b\b\b\b\b\b\b\r386/386 [==============================] - 141s 365ms/step - loss: 0.6049 - root_mean_squared_error: 0.7777 - val_loss: 0.4472 - val_root_mean_squared_error: 0.6688\n",
            "Epoch 3/50\n",
            "386/386 [==============================] - ETA: 0s - loss: 0.5291 - root_mean_squared_error: 0.7274"
          ]
        },
        {
          "output_type": "stream",
          "name": "stderr",
          "text": [
            "WARNING:absl:Found untraced functions such as lstm_cell_layer_call_fn, lstm_cell_layer_call_and_return_conditional_losses while saving (showing 2 of 2). These functions will not be directly callable after loading.\n",
            "WARNING:absl:<keras.layers.recurrent.LSTMCell object at 0x7f8bc6573810> has the same name 'LSTMCell' as a built-in Keras object. Consider renaming <class 'keras.layers.recurrent.LSTMCell'> to avoid naming conflicts when loading with `tf.keras.models.load_model`. If renaming is not possible, pass the object in the `custom_objects` parameter of the load function.\n"
          ]
        },
        {
          "output_type": "stream",
          "name": "stdout",
          "text": [
            "\b\b\b\b\b\b\b\b\b\b\b\b\b\b\b\b\b\b\b\b\b\b\b\b\b\b\b\b\b\b\b\b\b\b\b\b\b\b\b\b\b\b\b\b\b\b\b\b\b\b\b\b\b\b\b\b\b\b\b\b\b\b\b\b\b\b\b\b\b\b\b\b\b\b\b\b\b\b\b\b\b\b\b\b\b\b\b\b\b\b\b\b\b\b\b\b\b\b\b\r386/386 [==============================] - 140s 362ms/step - loss: 0.5291 - root_mean_squared_error: 0.7274 - val_loss: 0.3704 - val_root_mean_squared_error: 0.6086\n",
            "Epoch 4/50\n",
            "386/386 [==============================] - ETA: 0s - loss: 0.4643 - root_mean_squared_error: 0.6814"
          ]
        },
        {
          "output_type": "stream",
          "name": "stderr",
          "text": [
            "WARNING:absl:Found untraced functions such as lstm_cell_layer_call_fn, lstm_cell_layer_call_and_return_conditional_losses while saving (showing 2 of 2). These functions will not be directly callable after loading.\n",
            "WARNING:absl:<keras.layers.recurrent.LSTMCell object at 0x7f8bc6573810> has the same name 'LSTMCell' as a built-in Keras object. Consider renaming <class 'keras.layers.recurrent.LSTMCell'> to avoid naming conflicts when loading with `tf.keras.models.load_model`. If renaming is not possible, pass the object in the `custom_objects` parameter of the load function.\n"
          ]
        },
        {
          "output_type": "stream",
          "name": "stdout",
          "text": [
            "\b\b\b\b\b\b\b\b\b\b\b\b\b\b\b\b\b\b\b\b\b\b\b\b\b\b\b\b\b\b\b\b\b\b\b\b\b\b\b\b\b\b\b\b\b\b\b\b\b\b\b\b\b\b\b\b\b\b\b\b\b\b\b\b\b\b\b\b\b\b\b\b\b\b\b\b\b\b\b\b\b\b\b\b\b\b\b\b\b\b\b\b\b\b\b\b\b\b\b\r386/386 [==============================] - 140s 362ms/step - loss: 0.4643 - root_mean_squared_error: 0.6814 - val_loss: 0.3303 - val_root_mean_squared_error: 0.5747\n",
            "Epoch 5/50\n",
            "386/386 [==============================] - ETA: 0s - loss: 0.4158 - root_mean_squared_error: 0.6448"
          ]
        },
        {
          "output_type": "stream",
          "name": "stderr",
          "text": [
            "WARNING:absl:Found untraced functions such as lstm_cell_layer_call_fn, lstm_cell_layer_call_and_return_conditional_losses while saving (showing 2 of 2). These functions will not be directly callable after loading.\n",
            "WARNING:absl:<keras.layers.recurrent.LSTMCell object at 0x7f8bc6573810> has the same name 'LSTMCell' as a built-in Keras object. Consider renaming <class 'keras.layers.recurrent.LSTMCell'> to avoid naming conflicts when loading with `tf.keras.models.load_model`. If renaming is not possible, pass the object in the `custom_objects` parameter of the load function.\n"
          ]
        },
        {
          "output_type": "stream",
          "name": "stdout",
          "text": [
            "\b\b\b\b\b\b\b\b\b\b\b\b\b\b\b\b\b\b\b\b\b\b\b\b\b\b\b\b\b\b\b\b\b\b\b\b\b\b\b\b\b\b\b\b\b\b\b\b\b\b\b\b\b\b\b\b\b\b\b\b\b\b\b\b\b\b\b\b\b\b\b\b\b\b\b\b\b\b\b\b\b\b\b\b\b\b\b\b\b\b\b\b\b\b\b\b\b\b\b\r386/386 [==============================] - 139s 361ms/step - loss: 0.4158 - root_mean_squared_error: 0.6448 - val_loss: 0.2826 - val_root_mean_squared_error: 0.5316\n",
            "Epoch 6/50\n",
            "386/386 [==============================] - ETA: 0s - loss: 0.3806 - root_mean_squared_error: 0.6170"
          ]
        },
        {
          "output_type": "stream",
          "name": "stderr",
          "text": [
            "WARNING:absl:Found untraced functions such as lstm_cell_layer_call_fn, lstm_cell_layer_call_and_return_conditional_losses while saving (showing 2 of 2). These functions will not be directly callable after loading.\n",
            "WARNING:absl:<keras.layers.recurrent.LSTMCell object at 0x7f8bc6573810> has the same name 'LSTMCell' as a built-in Keras object. Consider renaming <class 'keras.layers.recurrent.LSTMCell'> to avoid naming conflicts when loading with `tf.keras.models.load_model`. If renaming is not possible, pass the object in the `custom_objects` parameter of the load function.\n"
          ]
        },
        {
          "output_type": "stream",
          "name": "stdout",
          "text": [
            "\b\b\b\b\b\b\b\b\b\b\b\b\b\b\b\b\b\b\b\b\b\b\b\b\b\b\b\b\b\b\b\b\b\b\b\b\b\b\b\b\b\b\b\b\b\b\b\b\b\b\b\b\b\b\b\b\b\b\b\b\b\b\b\b\b\b\b\b\b\b\b\b\b\b\b\b\b\b\b\b\b\b\b\b\b\b\b\b\b\b\b\b\b\b\b\b\b\b\b\r386/386 [==============================] - 138s 359ms/step - loss: 0.3806 - root_mean_squared_error: 0.6170 - val_loss: 0.2540 - val_root_mean_squared_error: 0.5040\n",
            "Epoch 7/50\n",
            "386/386 [==============================] - ETA: 0s - loss: 0.3555 - root_mean_squared_error: 0.5962"
          ]
        },
        {
          "output_type": "stream",
          "name": "stderr",
          "text": [
            "WARNING:absl:Found untraced functions such as lstm_cell_layer_call_fn, lstm_cell_layer_call_and_return_conditional_losses while saving (showing 2 of 2). These functions will not be directly callable after loading.\n",
            "WARNING:absl:<keras.layers.recurrent.LSTMCell object at 0x7f8bc6573810> has the same name 'LSTMCell' as a built-in Keras object. Consider renaming <class 'keras.layers.recurrent.LSTMCell'> to avoid naming conflicts when loading with `tf.keras.models.load_model`. If renaming is not possible, pass the object in the `custom_objects` parameter of the load function.\n"
          ]
        },
        {
          "output_type": "stream",
          "name": "stdout",
          "text": [
            "\b\b\b\b\b\b\b\b\b\b\b\b\b\b\b\b\b\b\b\b\b\b\b\b\b\b\b\b\b\b\b\b\b\b\b\b\b\b\b\b\b\b\b\b\b\b\b\b\b\b\b\b\b\b\b\b\b\b\b\b\b\b\b\b\b\b\b\b\b\b\b\b\b\b\b\b\b\b\b\b\b\b\b\b\b\b\b\b\b\b\b\b\b\b\b\b\b\b\b\r386/386 [==============================] - 139s 361ms/step - loss: 0.3555 - root_mean_squared_error: 0.5962 - val_loss: 0.2516 - val_root_mean_squared_error: 0.5016\n",
            "Epoch 8/50\n",
            "386/386 [==============================] - ETA: 0s - loss: 0.3306 - root_mean_squared_error: 0.5750"
          ]
        },
        {
          "output_type": "stream",
          "name": "stderr",
          "text": [
            "WARNING:absl:Found untraced functions such as lstm_cell_layer_call_fn, lstm_cell_layer_call_and_return_conditional_losses while saving (showing 2 of 2). These functions will not be directly callable after loading.\n",
            "WARNING:absl:<keras.layers.recurrent.LSTMCell object at 0x7f8bc6573810> has the same name 'LSTMCell' as a built-in Keras object. Consider renaming <class 'keras.layers.recurrent.LSTMCell'> to avoid naming conflicts when loading with `tf.keras.models.load_model`. If renaming is not possible, pass the object in the `custom_objects` parameter of the load function.\n"
          ]
        },
        {
          "output_type": "stream",
          "name": "stdout",
          "text": [
            "\b\b\b\b\b\b\b\b\b\b\b\b\b\b\b\b\b\b\b\b\b\b\b\b\b\b\b\b\b\b\b\b\b\b\b\b\b\b\b\b\b\b\b\b\b\b\b\b\b\b\b\b\b\b\b\b\b\b\b\b\b\b\b\b\b\b\b\b\b\b\b\b\b\b\b\b\b\b\b\b\b\b\b\b\b\b\b\b\b\b\b\b\b\b\b\b\b\b\b\r386/386 [==============================] - 139s 361ms/step - loss: 0.3306 - root_mean_squared_error: 0.5750 - val_loss: 0.2425 - val_root_mean_squared_error: 0.4924\n",
            "Epoch 9/50\n",
            "386/386 [==============================] - ETA: 0s - loss: 0.3224 - root_mean_squared_error: 0.5678"
          ]
        },
        {
          "output_type": "stream",
          "name": "stderr",
          "text": [
            "WARNING:absl:Found untraced functions such as lstm_cell_layer_call_fn, lstm_cell_layer_call_and_return_conditional_losses while saving (showing 2 of 2). These functions will not be directly callable after loading.\n",
            "WARNING:absl:<keras.layers.recurrent.LSTMCell object at 0x7f8bc6573810> has the same name 'LSTMCell' as a built-in Keras object. Consider renaming <class 'keras.layers.recurrent.LSTMCell'> to avoid naming conflicts when loading with `tf.keras.models.load_model`. If renaming is not possible, pass the object in the `custom_objects` parameter of the load function.\n"
          ]
        },
        {
          "output_type": "stream",
          "name": "stdout",
          "text": [
            "\b\b\b\b\b\b\b\b\b\b\b\b\b\b\b\b\b\b\b\b\b\b\b\b\b\b\b\b\b\b\b\b\b\b\b\b\b\b\b\b\b\b\b\b\b\b\b\b\b\b\b\b\b\b\b\b\b\b\b\b\b\b\b\b\b\b\b\b\b\b\b\b\b\b\b\b\b\b\b\b\b\b\b\b\b\b\b\b\b\b\b\b\b\b\b\b\b\b\b\r386/386 [==============================] - 139s 361ms/step - loss: 0.3224 - root_mean_squared_error: 0.5678 - val_loss: 0.2356 - val_root_mean_squared_error: 0.4854\n",
            "Epoch 10/50\n",
            "386/386 [==============================] - ETA: 0s - loss: 0.3116 - root_mean_squared_error: 0.5582"
          ]
        },
        {
          "output_type": "stream",
          "name": "stderr",
          "text": [
            "WARNING:absl:Found untraced functions such as lstm_cell_layer_call_fn, lstm_cell_layer_call_and_return_conditional_losses while saving (showing 2 of 2). These functions will not be directly callable after loading.\n",
            "WARNING:absl:<keras.layers.recurrent.LSTMCell object at 0x7f8bc6573810> has the same name 'LSTMCell' as a built-in Keras object. Consider renaming <class 'keras.layers.recurrent.LSTMCell'> to avoid naming conflicts when loading with `tf.keras.models.load_model`. If renaming is not possible, pass the object in the `custom_objects` parameter of the load function.\n"
          ]
        },
        {
          "output_type": "stream",
          "name": "stdout",
          "text": [
            "\b\b\b\b\b\b\b\b\b\b\b\b\b\b\b\b\b\b\b\b\b\b\b\b\b\b\b\b\b\b\b\b\b\b\b\b\b\b\b\b\b\b\b\b\b\b\b\b\b\b\b\b\b\b\b\b\b\b\b\b\b\b\b\b\b\b\b\b\b\b\b\b\b\b\b\b\b\b\b\b\b\b\b\b\b\b\b\b\b\b\b\b\b\b\b\b\b\b\b\r386/386 [==============================] - 141s 365ms/step - loss: 0.3116 - root_mean_squared_error: 0.5582 - val_loss: 0.2258 - val_root_mean_squared_error: 0.4752\n",
            "Epoch 11/50\n",
            "386/386 [==============================] - ETA: 0s - loss: 0.3037 - root_mean_squared_error: 0.5510"
          ]
        },
        {
          "output_type": "stream",
          "name": "stderr",
          "text": [
            "WARNING:absl:Found untraced functions such as lstm_cell_layer_call_fn, lstm_cell_layer_call_and_return_conditional_losses while saving (showing 2 of 2). These functions will not be directly callable after loading.\n",
            "WARNING:absl:<keras.layers.recurrent.LSTMCell object at 0x7f8bc6573810> has the same name 'LSTMCell' as a built-in Keras object. Consider renaming <class 'keras.layers.recurrent.LSTMCell'> to avoid naming conflicts when loading with `tf.keras.models.load_model`. If renaming is not possible, pass the object in the `custom_objects` parameter of the load function.\n"
          ]
        },
        {
          "output_type": "stream",
          "name": "stdout",
          "text": [
            "\b\b\b\b\b\b\b\b\b\b\b\b\b\b\b\b\b\b\b\b\b\b\b\b\b\b\b\b\b\b\b\b\b\b\b\b\b\b\b\b\b\b\b\b\b\b\b\b\b\b\b\b\b\b\b\b\b\b\b\b\b\b\b\b\b\b\b\b\b\b\b\b\b\b\b\b\b\b\b\b\b\b\b\b\b\b\b\b\b\b\b\b\b\b\b\b\b\b\b\r386/386 [==============================] - 139s 361ms/step - loss: 0.3037 - root_mean_squared_error: 0.5510 - val_loss: 0.2223 - val_root_mean_squared_error: 0.4715\n",
            "Epoch 12/50\n",
            "386/386 [==============================] - ETA: 0s - loss: 0.2932 - root_mean_squared_error: 0.5415"
          ]
        },
        {
          "output_type": "stream",
          "name": "stderr",
          "text": [
            "WARNING:absl:Found untraced functions such as lstm_cell_layer_call_fn, lstm_cell_layer_call_and_return_conditional_losses while saving (showing 2 of 2). These functions will not be directly callable after loading.\n",
            "WARNING:absl:<keras.layers.recurrent.LSTMCell object at 0x7f8bc6573810> has the same name 'LSTMCell' as a built-in Keras object. Consider renaming <class 'keras.layers.recurrent.LSTMCell'> to avoid naming conflicts when loading with `tf.keras.models.load_model`. If renaming is not possible, pass the object in the `custom_objects` parameter of the load function.\n"
          ]
        },
        {
          "output_type": "stream",
          "name": "stdout",
          "text": [
            "\b\b\b\b\b\b\b\b\b\b\b\b\b\b\b\b\b\b\b\b\b\b\b\b\b\b\b\b\b\b\b\b\b\b\b\b\b\b\b\b\b\b\b\b\b\b\b\b\b\b\b\b\b\b\b\b\b\b\b\b\b\b\b\b\b\b\b\b\b\b\b\b\b\b\b\b\b\b\b\b\b\b\b\b\b\b\b\b\b\b\b\b\b\b\b\b\b\b\b\r386/386 [==============================] - 143s 372ms/step - loss: 0.2932 - root_mean_squared_error: 0.5415 - val_loss: 0.2195 - val_root_mean_squared_error: 0.4685\n",
            "Epoch 13/50\n",
            "386/386 [==============================] - ETA: 0s - loss: 0.2875 - root_mean_squared_error: 0.5362"
          ]
        },
        {
          "output_type": "stream",
          "name": "stderr",
          "text": [
            "WARNING:absl:Found untraced functions such as lstm_cell_layer_call_fn, lstm_cell_layer_call_and_return_conditional_losses while saving (showing 2 of 2). These functions will not be directly callable after loading.\n",
            "WARNING:absl:<keras.layers.recurrent.LSTMCell object at 0x7f8bc6573810> has the same name 'LSTMCell' as a built-in Keras object. Consider renaming <class 'keras.layers.recurrent.LSTMCell'> to avoid naming conflicts when loading with `tf.keras.models.load_model`. If renaming is not possible, pass the object in the `custom_objects` parameter of the load function.\n"
          ]
        },
        {
          "output_type": "stream",
          "name": "stdout",
          "text": [
            "\b\b\b\b\b\b\b\b\b\b\b\b\b\b\b\b\b\b\b\b\b\b\b\b\b\b\b\b\b\b\b\b\b\b\b\b\b\b\b\b\b\b\b\b\b\b\b\b\b\b\b\b\b\b\b\b\b\b\b\b\b\b\b\b\b\b\b\b\b\b\b\b\b\b\b\b\b\b\b\b\b\b\b\b\b\b\b\b\b\b\b\b\b\b\b\b\b\b\b\r386/386 [==============================] - 147s 382ms/step - loss: 0.2875 - root_mean_squared_error: 0.5362 - val_loss: 0.2152 - val_root_mean_squared_error: 0.4639\n",
            "Epoch 14/50\n",
            "386/386 [==============================] - ETA: 0s - loss: 0.2861 - root_mean_squared_error: 0.5349"
          ]
        },
        {
          "output_type": "stream",
          "name": "stderr",
          "text": [
            "WARNING:absl:Found untraced functions such as lstm_cell_layer_call_fn, lstm_cell_layer_call_and_return_conditional_losses while saving (showing 2 of 2). These functions will not be directly callable after loading.\n",
            "WARNING:absl:<keras.layers.recurrent.LSTMCell object at 0x7f8bc6573810> has the same name 'LSTMCell' as a built-in Keras object. Consider renaming <class 'keras.layers.recurrent.LSTMCell'> to avoid naming conflicts when loading with `tf.keras.models.load_model`. If renaming is not possible, pass the object in the `custom_objects` parameter of the load function.\n"
          ]
        },
        {
          "output_type": "stream",
          "name": "stdout",
          "text": [
            "\b\b\b\b\b\b\b\b\b\b\b\b\b\b\b\b\b\b\b\b\b\b\b\b\b\b\b\b\b\b\b\b\b\b\b\b\b\b\b\b\b\b\b\b\b\b\b\b\b\b\b\b\b\b\b\b\b\b\b\b\b\b\b\b\b\b\b\b\b\b\b\b\b\b\b\b\b\b\b\b\b\b\b\b\b\b\b\b\b\b\b\b\b\b\b\b\b\b\b\r386/386 [==============================] - 145s 376ms/step - loss: 0.2861 - root_mean_squared_error: 0.5349 - val_loss: 0.2141 - val_root_mean_squared_error: 0.4627\n",
            "Epoch 15/50\n",
            "386/386 [==============================] - 138s 358ms/step - loss: 0.2827 - root_mean_squared_error: 0.5317 - val_loss: 0.2159 - val_root_mean_squared_error: 0.4646\n",
            "Epoch 16/50\n",
            "386/386 [==============================] - 138s 358ms/step - loss: 0.2762 - root_mean_squared_error: 0.5256 - val_loss: 0.2171 - val_root_mean_squared_error: 0.4660\n",
            "Epoch 17/50\n",
            "386/386 [==============================] - ETA: 0s - loss: 0.2704 - root_mean_squared_error: 0.5200"
          ]
        },
        {
          "output_type": "stream",
          "name": "stderr",
          "text": [
            "WARNING:absl:Found untraced functions such as lstm_cell_layer_call_fn, lstm_cell_layer_call_and_return_conditional_losses while saving (showing 2 of 2). These functions will not be directly callable after loading.\n",
            "WARNING:absl:<keras.layers.recurrent.LSTMCell object at 0x7f8bc6573810> has the same name 'LSTMCell' as a built-in Keras object. Consider renaming <class 'keras.layers.recurrent.LSTMCell'> to avoid naming conflicts when loading with `tf.keras.models.load_model`. If renaming is not possible, pass the object in the `custom_objects` parameter of the load function.\n"
          ]
        },
        {
          "output_type": "stream",
          "name": "stdout",
          "text": [
            "\b\b\b\b\b\b\b\b\b\b\b\b\b\b\b\b\b\b\b\b\b\b\b\b\b\b\b\b\b\b\b\b\b\b\b\b\b\b\b\b\b\b\b\b\b\b\b\b\b\b\b\b\b\b\b\b\b\b\b\b\b\b\b\b\b\b\b\b\b\b\b\b\b\b\b\b\b\b\b\b\b\b\b\b\b\b\b\b\b\b\b\b\b\b\b\b\b\b\b\r386/386 [==============================] - 141s 365ms/step - loss: 0.2704 - root_mean_squared_error: 0.5200 - val_loss: 0.2139 - val_root_mean_squared_error: 0.4625\n",
            "Epoch 18/50\n",
            "386/386 [==============================] - ETA: 0s - loss: 0.2671 - root_mean_squared_error: 0.5169"
          ]
        },
        {
          "output_type": "stream",
          "name": "stderr",
          "text": [
            "WARNING:absl:Found untraced functions such as lstm_cell_layer_call_fn, lstm_cell_layer_call_and_return_conditional_losses while saving (showing 2 of 2). These functions will not be directly callable after loading.\n",
            "WARNING:absl:<keras.layers.recurrent.LSTMCell object at 0x7f8bc6573810> has the same name 'LSTMCell' as a built-in Keras object. Consider renaming <class 'keras.layers.recurrent.LSTMCell'> to avoid naming conflicts when loading with `tf.keras.models.load_model`. If renaming is not possible, pass the object in the `custom_objects` parameter of the load function.\n"
          ]
        },
        {
          "output_type": "stream",
          "name": "stdout",
          "text": [
            "\b\b\b\b\b\b\b\b\b\b\b\b\b\b\b\b\b\b\b\b\b\b\b\b\b\b\b\b\b\b\b\b\b\b\b\b\b\b\b\b\b\b\b\b\b\b\b\b\b\b\b\b\b\b\b\b\b\b\b\b\b\b\b\b\b\b\b\b\b\b\b\b\b\b\b\b\b\b\b\b\b\b\b\b\b\b\b\b\b\b\b\b\b\b\b\b\b\b\b\r386/386 [==============================] - 142s 368ms/step - loss: 0.2671 - root_mean_squared_error: 0.5169 - val_loss: 0.2097 - val_root_mean_squared_error: 0.4579\n",
            "Epoch 19/50\n",
            "386/386 [==============================] - 141s 366ms/step - loss: 0.2663 - root_mean_squared_error: 0.5161 - val_loss: 0.2122 - val_root_mean_squared_error: 0.4607\n",
            "Epoch 20/50\n",
            "386/386 [==============================] - 137s 356ms/step - loss: 0.2658 - root_mean_squared_error: 0.5155 - val_loss: 0.2132 - val_root_mean_squared_error: 0.4617\n",
            "Epoch 21/50\n",
            "386/386 [==============================] - 138s 357ms/step - loss: 0.2630 - root_mean_squared_error: 0.5128 - val_loss: 0.2114 - val_root_mean_squared_error: 0.4597\n",
            "Epoch 22/50\n",
            "386/386 [==============================] - 138s 358ms/step - loss: 0.2558 - root_mean_squared_error: 0.5058 - val_loss: 0.2108 - val_root_mean_squared_error: 0.4591\n",
            "Epoch 23/50\n",
            "386/386 [==============================] - 138s 356ms/step - loss: 0.2610 - root_mean_squared_error: 0.5109 - val_loss: 0.2135 - val_root_mean_squared_error: 0.4620\n",
            "Epoch 24/50\n",
            "386/386 [==============================] - 138s 357ms/step - loss: 0.2515 - root_mean_squared_error: 0.5015 - val_loss: 0.2098 - val_root_mean_squared_error: 0.4581\n",
            "Epoch 25/50\n",
            "386/386 [==============================] - 137s 356ms/step - loss: 0.2515 - root_mean_squared_error: 0.5015 - val_loss: 0.2106 - val_root_mean_squared_error: 0.4589\n",
            "Epoch 26/50\n",
            "373/386 [===========================>..] - ETA: 4s - loss: 0.2507 - root_mean_squared_error: 0.5007"
          ]
        },
        {
          "output_type": "error",
          "ename": "KeyboardInterrupt",
          "evalue": "ignored",
          "traceback": [
            "\u001b[0;31m---------------------------------------------------------------------------\u001b[0m",
            "\u001b[0;31mKeyboardInterrupt\u001b[0m                         Traceback (most recent call last)",
            "\u001b[0;32m<ipython-input-15-23b2aebce3c9>\u001b[0m in \u001b[0;36m<module>\u001b[0;34m\u001b[0m\n\u001b[0;32m----> 1\u001b[0;31m \u001b[0mmodel\u001b[0m\u001b[0;34m.\u001b[0m\u001b[0mfit\u001b[0m\u001b[0;34m(\u001b[0m\u001b[0mX_train\u001b[0m\u001b[0;34m,\u001b[0m \u001b[0my_train\u001b[0m\u001b[0;34m,\u001b[0m \u001b[0mvalidation_data\u001b[0m\u001b[0;34m=\u001b[0m\u001b[0;34m(\u001b[0m\u001b[0mX_test\u001b[0m\u001b[0;34m,\u001b[0m \u001b[0my_test\u001b[0m\u001b[0;34m)\u001b[0m\u001b[0;34m,\u001b[0m \u001b[0mepochs\u001b[0m\u001b[0;34m=\u001b[0m\u001b[0;36m50\u001b[0m\u001b[0;34m,\u001b[0m \u001b[0mbatch_size\u001b[0m\u001b[0;34m=\u001b[0m \u001b[0;36m70\u001b[0m\u001b[0;34m,\u001b[0m\u001b[0mcallbacks\u001b[0m\u001b[0;34m=\u001b[0m\u001b[0;34m[\u001b[0m\u001b[0mcp\u001b[0m\u001b[0;34m,\u001b[0m\u001b[0mes\u001b[0m\u001b[0;34m]\u001b[0m\u001b[0;34m)\u001b[0m\u001b[0;34m\u001b[0m\u001b[0;34m\u001b[0m\u001b[0m\n\u001b[0m",
            "\u001b[0;32m/usr/local/lib/python3.7/dist-packages/keras/utils/traceback_utils.py\u001b[0m in \u001b[0;36merror_handler\u001b[0;34m(*args, **kwargs)\u001b[0m\n\u001b[1;32m     62\u001b[0m     \u001b[0mfiltered_tb\u001b[0m \u001b[0;34m=\u001b[0m \u001b[0;32mNone\u001b[0m\u001b[0;34m\u001b[0m\u001b[0;34m\u001b[0m\u001b[0m\n\u001b[1;32m     63\u001b[0m     \u001b[0;32mtry\u001b[0m\u001b[0;34m:\u001b[0m\u001b[0;34m\u001b[0m\u001b[0;34m\u001b[0m\u001b[0m\n\u001b[0;32m---> 64\u001b[0;31m       \u001b[0;32mreturn\u001b[0m \u001b[0mfn\u001b[0m\u001b[0;34m(\u001b[0m\u001b[0;34m*\u001b[0m\u001b[0margs\u001b[0m\u001b[0;34m,\u001b[0m \u001b[0;34m**\u001b[0m\u001b[0mkwargs\u001b[0m\u001b[0;34m)\u001b[0m\u001b[0;34m\u001b[0m\u001b[0;34m\u001b[0m\u001b[0m\n\u001b[0m\u001b[1;32m     65\u001b[0m     \u001b[0;32mexcept\u001b[0m \u001b[0mException\u001b[0m \u001b[0;32mas\u001b[0m \u001b[0me\u001b[0m\u001b[0;34m:\u001b[0m  \u001b[0;31m# pylint: disable=broad-except\u001b[0m\u001b[0;34m\u001b[0m\u001b[0;34m\u001b[0m\u001b[0m\n\u001b[1;32m     66\u001b[0m       \u001b[0mfiltered_tb\u001b[0m \u001b[0;34m=\u001b[0m \u001b[0m_process_traceback_frames\u001b[0m\u001b[0;34m(\u001b[0m\u001b[0me\u001b[0m\u001b[0;34m.\u001b[0m\u001b[0m__traceback__\u001b[0m\u001b[0;34m)\u001b[0m\u001b[0;34m\u001b[0m\u001b[0;34m\u001b[0m\u001b[0m\n",
            "\u001b[0;32m/usr/local/lib/python3.7/dist-packages/keras/engine/training.py\u001b[0m in \u001b[0;36mfit\u001b[0;34m(self, x, y, batch_size, epochs, verbose, callbacks, validation_split, validation_data, shuffle, class_weight, sample_weight, initial_epoch, steps_per_epoch, validation_steps, validation_batch_size, validation_freq, max_queue_size, workers, use_multiprocessing)\u001b[0m\n\u001b[1;32m   1382\u001b[0m                 _r=1):\n\u001b[1;32m   1383\u001b[0m               \u001b[0mcallbacks\u001b[0m\u001b[0;34m.\u001b[0m\u001b[0mon_train_batch_begin\u001b[0m\u001b[0;34m(\u001b[0m\u001b[0mstep\u001b[0m\u001b[0;34m)\u001b[0m\u001b[0;34m\u001b[0m\u001b[0;34m\u001b[0m\u001b[0m\n\u001b[0;32m-> 1384\u001b[0;31m               \u001b[0mtmp_logs\u001b[0m \u001b[0;34m=\u001b[0m \u001b[0mself\u001b[0m\u001b[0;34m.\u001b[0m\u001b[0mtrain_function\u001b[0m\u001b[0;34m(\u001b[0m\u001b[0miterator\u001b[0m\u001b[0;34m)\u001b[0m\u001b[0;34m\u001b[0m\u001b[0;34m\u001b[0m\u001b[0m\n\u001b[0m\u001b[1;32m   1385\u001b[0m               \u001b[0;32mif\u001b[0m \u001b[0mdata_handler\u001b[0m\u001b[0;34m.\u001b[0m\u001b[0mshould_sync\u001b[0m\u001b[0;34m:\u001b[0m\u001b[0;34m\u001b[0m\u001b[0;34m\u001b[0m\u001b[0m\n\u001b[1;32m   1386\u001b[0m                 \u001b[0mcontext\u001b[0m\u001b[0;34m.\u001b[0m\u001b[0masync_wait\u001b[0m\u001b[0;34m(\u001b[0m\u001b[0;34m)\u001b[0m\u001b[0;34m\u001b[0m\u001b[0;34m\u001b[0m\u001b[0m\n",
            "\u001b[0;32m/usr/local/lib/python3.7/dist-packages/tensorflow/python/util/traceback_utils.py\u001b[0m in \u001b[0;36merror_handler\u001b[0;34m(*args, **kwargs)\u001b[0m\n\u001b[1;32m    148\u001b[0m     \u001b[0mfiltered_tb\u001b[0m \u001b[0;34m=\u001b[0m \u001b[0;32mNone\u001b[0m\u001b[0;34m\u001b[0m\u001b[0;34m\u001b[0m\u001b[0m\n\u001b[1;32m    149\u001b[0m     \u001b[0;32mtry\u001b[0m\u001b[0;34m:\u001b[0m\u001b[0;34m\u001b[0m\u001b[0;34m\u001b[0m\u001b[0m\n\u001b[0;32m--> 150\u001b[0;31m       \u001b[0;32mreturn\u001b[0m \u001b[0mfn\u001b[0m\u001b[0;34m(\u001b[0m\u001b[0;34m*\u001b[0m\u001b[0margs\u001b[0m\u001b[0;34m,\u001b[0m \u001b[0;34m**\u001b[0m\u001b[0mkwargs\u001b[0m\u001b[0;34m)\u001b[0m\u001b[0;34m\u001b[0m\u001b[0;34m\u001b[0m\u001b[0m\n\u001b[0m\u001b[1;32m    151\u001b[0m     \u001b[0;32mexcept\u001b[0m \u001b[0mException\u001b[0m \u001b[0;32mas\u001b[0m \u001b[0me\u001b[0m\u001b[0;34m:\u001b[0m\u001b[0;34m\u001b[0m\u001b[0;34m\u001b[0m\u001b[0m\n\u001b[1;32m    152\u001b[0m       \u001b[0mfiltered_tb\u001b[0m \u001b[0;34m=\u001b[0m \u001b[0m_process_traceback_frames\u001b[0m\u001b[0;34m(\u001b[0m\u001b[0me\u001b[0m\u001b[0;34m.\u001b[0m\u001b[0m__traceback__\u001b[0m\u001b[0;34m)\u001b[0m\u001b[0;34m\u001b[0m\u001b[0;34m\u001b[0m\u001b[0m\n",
            "\u001b[0;32m/usr/local/lib/python3.7/dist-packages/tensorflow/python/eager/def_function.py\u001b[0m in \u001b[0;36m__call__\u001b[0;34m(self, *args, **kwds)\u001b[0m\n\u001b[1;32m    913\u001b[0m \u001b[0;34m\u001b[0m\u001b[0m\n\u001b[1;32m    914\u001b[0m       \u001b[0;32mwith\u001b[0m \u001b[0mOptionalXlaContext\u001b[0m\u001b[0;34m(\u001b[0m\u001b[0mself\u001b[0m\u001b[0;34m.\u001b[0m\u001b[0m_jit_compile\u001b[0m\u001b[0;34m)\u001b[0m\u001b[0;34m:\u001b[0m\u001b[0;34m\u001b[0m\u001b[0;34m\u001b[0m\u001b[0m\n\u001b[0;32m--> 915\u001b[0;31m         \u001b[0mresult\u001b[0m \u001b[0;34m=\u001b[0m \u001b[0mself\u001b[0m\u001b[0;34m.\u001b[0m\u001b[0m_call\u001b[0m\u001b[0;34m(\u001b[0m\u001b[0;34m*\u001b[0m\u001b[0margs\u001b[0m\u001b[0;34m,\u001b[0m \u001b[0;34m**\u001b[0m\u001b[0mkwds\u001b[0m\u001b[0;34m)\u001b[0m\u001b[0;34m\u001b[0m\u001b[0;34m\u001b[0m\u001b[0m\n\u001b[0m\u001b[1;32m    916\u001b[0m \u001b[0;34m\u001b[0m\u001b[0m\n\u001b[1;32m    917\u001b[0m       \u001b[0mnew_tracing_count\u001b[0m \u001b[0;34m=\u001b[0m \u001b[0mself\u001b[0m\u001b[0;34m.\u001b[0m\u001b[0mexperimental_get_tracing_count\u001b[0m\u001b[0;34m(\u001b[0m\u001b[0;34m)\u001b[0m\u001b[0;34m\u001b[0m\u001b[0;34m\u001b[0m\u001b[0m\n",
            "\u001b[0;32m/usr/local/lib/python3.7/dist-packages/tensorflow/python/eager/def_function.py\u001b[0m in \u001b[0;36m_call\u001b[0;34m(self, *args, **kwds)\u001b[0m\n\u001b[1;32m    945\u001b[0m       \u001b[0;31m# In this case we have created variables on the first call, so we run the\u001b[0m\u001b[0;34m\u001b[0m\u001b[0;34m\u001b[0m\u001b[0;34m\u001b[0m\u001b[0m\n\u001b[1;32m    946\u001b[0m       \u001b[0;31m# defunned version which is guaranteed to never create variables.\u001b[0m\u001b[0;34m\u001b[0m\u001b[0;34m\u001b[0m\u001b[0;34m\u001b[0m\u001b[0m\n\u001b[0;32m--> 947\u001b[0;31m       \u001b[0;32mreturn\u001b[0m \u001b[0mself\u001b[0m\u001b[0;34m.\u001b[0m\u001b[0m_stateless_fn\u001b[0m\u001b[0;34m(\u001b[0m\u001b[0;34m*\u001b[0m\u001b[0margs\u001b[0m\u001b[0;34m,\u001b[0m \u001b[0;34m**\u001b[0m\u001b[0mkwds\u001b[0m\u001b[0;34m)\u001b[0m  \u001b[0;31m# pylint: disable=not-callable\u001b[0m\u001b[0;34m\u001b[0m\u001b[0;34m\u001b[0m\u001b[0m\n\u001b[0m\u001b[1;32m    948\u001b[0m     \u001b[0;32melif\u001b[0m \u001b[0mself\u001b[0m\u001b[0;34m.\u001b[0m\u001b[0m_stateful_fn\u001b[0m \u001b[0;32mis\u001b[0m \u001b[0;32mnot\u001b[0m \u001b[0;32mNone\u001b[0m\u001b[0;34m:\u001b[0m\u001b[0;34m\u001b[0m\u001b[0;34m\u001b[0m\u001b[0m\n\u001b[1;32m    949\u001b[0m       \u001b[0;31m# Release the lock early so that multiple threads can perform the call\u001b[0m\u001b[0;34m\u001b[0m\u001b[0;34m\u001b[0m\u001b[0;34m\u001b[0m\u001b[0m\n",
            "\u001b[0;32m/usr/local/lib/python3.7/dist-packages/tensorflow/python/eager/function.py\u001b[0m in \u001b[0;36m__call__\u001b[0;34m(self, *args, **kwargs)\u001b[0m\n\u001b[1;32m   2955\u001b[0m        filtered_flat_args) = self._maybe_define_function(args, kwargs)\n\u001b[1;32m   2956\u001b[0m     return graph_function._call_flat(\n\u001b[0;32m-> 2957\u001b[0;31m         filtered_flat_args, captured_inputs=graph_function.captured_inputs)  # pylint: disable=protected-access\n\u001b[0m\u001b[1;32m   2958\u001b[0m \u001b[0;34m\u001b[0m\u001b[0m\n\u001b[1;32m   2959\u001b[0m   \u001b[0;34m@\u001b[0m\u001b[0mproperty\u001b[0m\u001b[0;34m\u001b[0m\u001b[0;34m\u001b[0m\u001b[0m\n",
            "\u001b[0;32m/usr/local/lib/python3.7/dist-packages/tensorflow/python/eager/function.py\u001b[0m in \u001b[0;36m_call_flat\u001b[0;34m(self, args, captured_inputs, cancellation_manager)\u001b[0m\n\u001b[1;32m   1852\u001b[0m       \u001b[0;31m# No tape is watching; skip to running the function.\u001b[0m\u001b[0;34m\u001b[0m\u001b[0;34m\u001b[0m\u001b[0;34m\u001b[0m\u001b[0m\n\u001b[1;32m   1853\u001b[0m       return self._build_call_outputs(self._inference_function.call(\n\u001b[0;32m-> 1854\u001b[0;31m           ctx, args, cancellation_manager=cancellation_manager))\n\u001b[0m\u001b[1;32m   1855\u001b[0m     forward_backward = self._select_forward_and_backward_functions(\n\u001b[1;32m   1856\u001b[0m         \u001b[0margs\u001b[0m\u001b[0;34m,\u001b[0m\u001b[0;34m\u001b[0m\u001b[0;34m\u001b[0m\u001b[0m\n",
            "\u001b[0;32m/usr/local/lib/python3.7/dist-packages/tensorflow/python/eager/function.py\u001b[0m in \u001b[0;36mcall\u001b[0;34m(self, ctx, args, cancellation_manager)\u001b[0m\n\u001b[1;32m    502\u001b[0m               \u001b[0minputs\u001b[0m\u001b[0;34m=\u001b[0m\u001b[0margs\u001b[0m\u001b[0;34m,\u001b[0m\u001b[0;34m\u001b[0m\u001b[0;34m\u001b[0m\u001b[0m\n\u001b[1;32m    503\u001b[0m               \u001b[0mattrs\u001b[0m\u001b[0;34m=\u001b[0m\u001b[0mattrs\u001b[0m\u001b[0;34m,\u001b[0m\u001b[0;34m\u001b[0m\u001b[0;34m\u001b[0m\u001b[0m\n\u001b[0;32m--> 504\u001b[0;31m               ctx=ctx)\n\u001b[0m\u001b[1;32m    505\u001b[0m         \u001b[0;32melse\u001b[0m\u001b[0;34m:\u001b[0m\u001b[0;34m\u001b[0m\u001b[0;34m\u001b[0m\u001b[0m\n\u001b[1;32m    506\u001b[0m           outputs = execute.execute_with_cancellation(\n",
            "\u001b[0;32m/usr/local/lib/python3.7/dist-packages/tensorflow/python/eager/execute.py\u001b[0m in \u001b[0;36mquick_execute\u001b[0;34m(op_name, num_outputs, inputs, attrs, ctx, name)\u001b[0m\n\u001b[1;32m     53\u001b[0m     \u001b[0mctx\u001b[0m\u001b[0;34m.\u001b[0m\u001b[0mensure_initialized\u001b[0m\u001b[0;34m(\u001b[0m\u001b[0;34m)\u001b[0m\u001b[0;34m\u001b[0m\u001b[0;34m\u001b[0m\u001b[0m\n\u001b[1;32m     54\u001b[0m     tensors = pywrap_tfe.TFE_Py_Execute(ctx._handle, device_name, op_name,\n\u001b[0;32m---> 55\u001b[0;31m                                         inputs, attrs, num_outputs)\n\u001b[0m\u001b[1;32m     56\u001b[0m   \u001b[0;32mexcept\u001b[0m \u001b[0mcore\u001b[0m\u001b[0;34m.\u001b[0m\u001b[0m_NotOkStatusException\u001b[0m \u001b[0;32mas\u001b[0m \u001b[0me\u001b[0m\u001b[0;34m:\u001b[0m\u001b[0;34m\u001b[0m\u001b[0;34m\u001b[0m\u001b[0m\n\u001b[1;32m     57\u001b[0m     \u001b[0;32mif\u001b[0m \u001b[0mname\u001b[0m \u001b[0;32mis\u001b[0m \u001b[0;32mnot\u001b[0m \u001b[0;32mNone\u001b[0m\u001b[0;34m:\u001b[0m\u001b[0;34m\u001b[0m\u001b[0;34m\u001b[0m\u001b[0m\n",
            "\u001b[0;31mKeyboardInterrupt\u001b[0m: "
          ]
        }
      ]
    },
    {
      "cell_type": "code",
      "source": [
        "def postprocess_BGSM1(arr):\n",
        "  arr = (arr*BGSM1_training_std) + BGSM1_training_mean\n",
        "  return arr\n",
        "def postprocess_BGSM2(arr):\n",
        "  arr = (arr*BGSM2_training_std) + BGSM2_training_mean\n",
        "  return arr\n",
        "def postprocess_BGSM3(arr):\n",
        "  arr = (arr*BGSM3_training_std) + BGSM3_training_mean\n",
        "  return arr\n",
        "def postprocess_BGSM4(arr):\n",
        "  arr = (arr*BGSM4_training_std) + BGSM4_training_mean\n",
        "  return arr\n",
        "def postprocess_BGSM5(arr):\n",
        "  arr = (arr*BGSM5_training_std) + BGSM5_training_mean\n",
        "  return arr\n",
        "def postprocess_BGSM6(arr):\n",
        "  arr = (arr*BGSM6_training_std) + BGSM6_training_mean\n",
        "  return arr\n",
        "\n"
      ],
      "metadata": {
        "id": "NgnpkaFMxQ9J"
      },
      "execution_count": null,
      "outputs": []
    },
    {
      "cell_type": "code",
      "source": [
        "import matplotlib.pyplot as plt\n",
        "def plot_predictions2(model, X, y, start=0, end=100):\n",
        "  predictions = model.predict(X)\n",
        "  BGSM1_preds, BGSM2_preds, BGSM3_preds, BGSM4_preds, BGSM5_preds, BGSM6_preds = postprocess_BGSM1(predictions[:, 0]), postprocess_BGSM2(predictions[:, 1]), postprocess_BGSM3(predictions[:, 2]), postprocess_BGSM4(predictions[:, 3]), postprocess_BGSM5(predictions[:, 4]), postprocess_BGSM6(predictions[:, 5])\n",
        "  BGSM1_actuals, BGSM2_actuals, BGSM3_actuals, BGSM4_actuals, BGSM5_actuals, BGSM6_actuals = postprocess_BGSM1(y[:, 0]), postprocess_BGSM2(y[:, 1]), postprocess_BGSM3(y[:, 2]), postprocess_BGSM4(y[:, 3]), postprocess_BGSM5(y[:, 4]), postprocess_BGSM6(y[:, 5])\n",
        "  df = pd.DataFrame(data={'BGSM1 Predictions': BGSM1_preds,\n",
        "                          'BGSM1 Actuals':BGSM1_actuals,\n",
        "                          'BGSM2 Predictions': BGSM2_preds,\n",
        "                          'Pressure Actuals': BGSM2_actuals\n",
        "                          })\n",
        "  plt.plot(df['BGSM1 Predictions'][start:end])\n",
        "  plt.plot(df['BGSM1 Actuals'][start:end])\n",
        "  return df[start:end]"
      ],
      "metadata": {
        "id": "0dF-xXzvtSI7"
      },
      "execution_count": null,
      "outputs": []
    },
    {
      "cell_type": "code",
      "source": [
        "df4= plot_predictions2(model,X_test,y_test)"
      ],
      "metadata": {
        "colab": {
          "base_uri": "https://localhost:8080/",
          "height": 265
        },
        "id": "qx18A4sowhr5",
        "outputId": "37414c85-8e0c-4b4b-acd7-641626ab4eae"
      },
      "execution_count": null,
      "outputs": [
        {
          "output_type": "display_data",
          "data": {
            "text/plain": [
              "<Figure size 432x288 with 1 Axes>"
            ],
            "image/png": "[encoded data removed]"
          },
          "metadata": {
            "needs_background": "light"
          }
        }
      ]
    },
    {
      "cell_type": "code",
      "source": [
        "model.save(\"forcasting_model.h5\")"
      ],
      "metadata": {
        "id": "tJs3h_Pi604p"
      },
      "execution_count": null,
      "outputs": []
    },
    {
      "cell_type": "code",
      "source": [
        "X_test.shape"
      ],
      "metadata": {
        "colab": {
          "base_uri": "https://localhost:8080/"
        },
        "id": "yc3eHObaF1UY",
        "outputId": "04ceef42-ec2b-4f97-b939-5d8c42d95835"
      },
      "execution_count": null,
      "outputs": [
        {
          "output_type": "execute_result",
          "data": {
            "text/plain": [
              "(5582, 70, 10)"
            ]
          },
          "metadata": {},
          "execution_count": 63
        }
      ]
    },
    {
      "cell_type": "code",
      "source": [
        "example=X_test[70]\n",
        "example_time= time_test[70]\n",
        "example.shape, example_time.shape"
      ],
      "metadata": {
        "colab": {
          "base_uri": "https://localhost:8080/"
        },
        "id": "yp1L3w50wtyZ",
        "outputId": "2165ea07-792e-417f-dcbc-bd3272a8ed24"
      },
      "execution_count": null,
      "outputs": [
        {
          "output_type": "execute_result",
          "data": {
            "text/plain": [
              "((70, 10), (70,))"
            ]
          },
          "metadata": {},
          "execution_count": 65
        }
      ]
    },
    {
      "cell_type": "code",
      "source": [
        "example_time=np.array(pd.DataFrame(example_time)[0].map(pd.Timestamp.timestamp))\n"
      ],
      "metadata": {
        "colab": {
          "base_uri": "https://localhost:8080/"
        },
        "id": "5OVPxZlrNSIf",
        "outputId": "1caf2735-165c-4045-99ab-5c87d9f0551d"
      },
      "execution_count": null,
      "outputs": [
        {
          "output_type": "execute_result",
          "data": {
            "text/plain": [
              "array([1.6225560e+09, 1.6225572e+09, 1.6225584e+09, 1.6225596e+09,\n",
              "       1.6225608e+09, 1.6225620e+09, 1.6225632e+09, 1.6225644e+09,\n",
              "       1.6225656e+09, 1.6225668e+09, 1.6225680e+09, 1.6225692e+09,\n",
              "       1.6225704e+09, 1.6225716e+09, 1.6225728e+09, 1.6225740e+09,\n",
              "       1.6225752e+09, 1.6225764e+09, 1.6225776e+09, 1.6225788e+09,\n",
              "       1.6225800e+09, 1.6225812e+09, 1.6225824e+09, 1.6225836e+09,\n",
              "       1.6225848e+09, 1.6225860e+09, 1.6225872e+09, 1.6225884e+09,\n",
              "       1.6225896e+09, 1.6202592e+09, 1.6202604e+09, 1.6202616e+09,\n",
              "       1.6202628e+09, 1.6202640e+09, 1.6202652e+09, 1.6202664e+09,\n",
              "       1.6202676e+09, 1.6202688e+09, 1.6202700e+09, 1.6202712e+09,\n",
              "       1.6202724e+09, 1.6202736e+09, 1.6202748e+09, 1.6202760e+09,\n",
              "       1.6202772e+09, 1.6202784e+09, 1.6202796e+09, 1.6202808e+09,\n",
              "       1.6202820e+09, 1.6202832e+09, 1.6202844e+09, 1.6202856e+09,\n",
              "       1.6202868e+09, 1.6202880e+09, 1.6202892e+09, 1.6202904e+09,\n",
              "       1.6202916e+09, 1.6202928e+09, 1.6202940e+09, 1.6202952e+09,\n",
              "       1.6202964e+09, 1.6202976e+09, 1.6202988e+09, 1.6203000e+09,\n",
              "       1.6203012e+09, 1.6203024e+09, 1.6203036e+09, 1.6203048e+09,\n",
              "       1.6203060e+09, 1.6203072e+09])"
            ]
          },
          "metadata": {},
          "execution_count": 69
        }
      ]
    },
    {
      "cell_type": "code",
      "source": [
        "for i in range(70):\n",
        "  prediction= model.predict(example[i:].reshape(1,70,10))\n",
        "  example= np.append(example, prediction).reshape(70+i+1, 6)\n"
      ],
      "metadata": {
        "id": "j7G0QBO0Epwo"
      },
      "execution_count": null,
      "outputs": []
    },
    {
      "cell_type": "code",
      "source": [
        "df2= pd.DataFrame(example)\n",
        "df3= pd.DataFrame(example[:70])\n",
        "plt.plot(df2[0])\n",
        "plt.plot(df3[0])\n"
      ],
      "metadata": {
        "colab": {
          "base_uri": "https://localhost:8080/",
          "height": 282
        },
        "id": "NN74DariE_7Z",
        "outputId": "35d8ca7b-e0ae-4919-9eb3-44cc99a380b2"
      },
      "execution_count": null,
      "outputs": [
        {
          "output_type": "execute_result",
          "data": {
            "text/plain": [
              "[<matplotlib.lines.Line2D at 0x7f8154b9d310>]"
            ]
          },
          "metadata": {},
          "execution_count": 182
        },
        {
          "output_type": "display_data",
          "data": {
            "text/plain": [
              "<Figure size 432x288 with 1 Axes>"
            ],
            "image/png": "[encoded data removed]"
          },
          "metadata": {
            "needs_background": "light"
          }
        }
      ]
    },
    {
      "cell_type": "code",
      "source": [
        "df4[\"BGSM1 Predictions\"].plot()"
      ],
      "metadata": {
        "colab": {
          "base_uri": "https://localhost:8080/",
          "height": 282
        },
        "id": "tljAvKrfFGsA",
        "outputId": "987e80a0-eac4-4d0a-8ff2-e84056b0f85e"
      },
      "execution_count": null,
      "outputs": [
        {
          "output_type": "execute_result",
          "data": {
            "text/plain": [
              "<matplotlib.axes._subplots.AxesSubplot at 0x7f815f50e4d0>"
            ]
          },
          "metadata": {},
          "execution_count": 173
        },
        {
          "output_type": "display_data",
          "data": {
            "text/plain": [
              "<Figure size 432x288 with 1 Axes>"
            ],
            "image/png": "[encoded data removed]"
          },
          "metadata": {
            "needs_background": "light"
          }
        }
      ]
    },
    {
      "cell_type": "code",
      "source": [
        "df2 = pd.DataFrame(data={'BGSM1 Predictions': BGSM1_preds,\n",
        "                          'BGSM1 Actuals':BGSM1_actuals,\n",
        "                          'BGSM2 Predictions': BGSM2_preds,\n",
        "                          'Pressure Actuals': BGSM2_actuals\n",
        "                          })"
      ],
      "metadata": {
        "id": "X22PQrv4FNX-"
      },
      "execution_count": null,
      "outputs": []
    }
  ]
}