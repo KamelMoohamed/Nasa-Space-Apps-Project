{
  "nbformat": 4,
  "nbformat_minor": 0,
  "metadata": {
    "colab": {
      "provenance": [],
      "collapsed_sections": []
    },
    "kernelspec": {
      "name": "python3",
      "display_name": "Python 3"
    },
    "language_info": {
      "name": "python"
    }
  },
  "cells": [
    {
      "cell_type": "code",
      "source": [
        "import pandas as pd\n",
        "import numpy as np\n",
        "import os\n",
        "from datetime import datetime"
      ],
      "metadata": {
        "id": "C1M2475eyTUT"
      },
      "execution_count": null,
      "outputs": []
    },
    {
      "cell_type": "code",
      "source": [
        "def labaling(path):\n",
        "  date= path[10:18]\n",
        "  dateIndex=date[:4]+\"-\"+date[4:6]+\"-\"+date[6:]\n",
        "  label=pd.read_csv(f\"/content/drive/MyDrive/Nasa_Space_Apps/Label/{date[:4]}.csv\",index_col=0)\n",
        "  data= pd.read_csv(\"/content/drive/MyDrive/Nasa_Space_Apps/CSV/\"+path,index_col=0)\n",
        "  try:\n",
        "    values=label.loc[dateIndex]\n",
        "    label=label.drop(axis=0, index=dateIndex)\n",
        "  except:\n",
        "    data.to_csv(\"/content/drive/MyDrive/Nasa_Space_Apps/CSV2/\"+path)\n",
        "    data[\"Label\"]= 0\n",
        "    return\n",
        "  slices=np.ceil(len(data)/8)\n",
        "  for counter in range(len(data)):\n",
        "    if values[int(counter/slices)]>7:\n",
        "      data[\"Label\"][counter] = 2 \n",
        "    elif values[int(counter/slices)]>4:\n",
        "      data[\"Label\"][counter] = 1 \n",
        "    else: \n",
        "      data[\"Label\"][counter] = 0\n",
        "\n",
        "  label.to_csv(f\"/content/drive/MyDrive/Nasa_Space_Apps/Label2/{date[:4]}.csv\")\n",
        "  data.to_csv(\"/content/drive/MyDrive/Nasa_Space_Apps/CSV2/\"+path)\n"
      ],
      "metadata": {
        "id": "mAxat52Au8jw"
      },
      "execution_count": null,
      "outputs": []
    },
    {
      "cell_type": "code",
      "source": [
        "allPaths=os.listdir(\"/content/drive/MyDrive/Nasa_Space_Apps/CSV\")\n",
        "for path in allPaths:\n",
        "  labaling(path)\n"
      ],
      "metadata": {
        "id": "VXJIMvMvuplL"
      },
      "execution_count": null,
      "outputs": []
    },
    {
      "cell_type": "code",
      "source": [
        "allPaths=os.listdir(\"/content/drive/MyDrive/Nasa_Space_Apps/CSV2\")\n",
        "len(allPaths)"
      ],
      "metadata": {
        "colab": {
          "base_uri": "https://localhost:8080/"
        },
        "id": "T928lsdWvaam",
        "outputId": "a0db54d8-447d-4ae1-cc5a-2102be944f07"
      },
      "execution_count": null,
      "outputs": [
        {
          "output_type": "execute_result",
          "data": {
            "text/plain": [
              "483"
            ]
          },
          "metadata": {},
          "execution_count": 7
        }
      ]
    },
    {
      "cell_type": "code",
      "source": [
        "allPaths=os.listdir(\"/content/drive/MyDrive/Nasa_Space_Apps/CSV2_Time\")\n",
        "\n",
        "df= pd.read_csv(\"/content/drive/MyDrive/Nasa_Space_Apps/CSV2_Time/\"+allPaths[0],index_col=0)\n",
        "for path in allPaths[1:]:\n",
        "  if(path.find(\"(1)\")==-1):\n",
        "    temp= pd.read_csv(\"/content/drive/MyDrive/Nasa_Space_Apps/CSV2_Time/\"+path, index_col=0)\n",
        "    df=pd.concat([df,temp])\n",
        "\n",
        "\n",
        "df=df.reset_index()\n",
        "df.to_csv(\"/content/drive/MyDrive/Nasa_Space_Apps/data.csv\")"
      ],
      "metadata": {
        "id": "oqnwMJvd3zGc"
      },
      "execution_count": null,
      "outputs": []
    },
    {
      "cell_type": "code",
      "source": [
        "df['Label'].value_counts()"
      ],
      "metadata": {
        "id": "Koq1M459A0qp"
      },
      "execution_count": null,
      "outputs": []
    }
  ]
}