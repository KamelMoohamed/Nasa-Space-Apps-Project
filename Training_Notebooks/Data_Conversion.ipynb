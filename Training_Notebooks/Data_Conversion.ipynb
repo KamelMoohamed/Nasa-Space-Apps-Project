{
 "cells": [
  {
   "cell_type": "code",
   "execution_count": 1,
   "id": "10932a57",
   "metadata": {},
   "outputs": [],
   "source": [
    "import os\n",
    "import datetime\n",
    "import requests\n",
    "import numpy as np\n",
    "import pandas as pd\n",
    "os.environ[\"CDF_LIB\"] = f\"C://Program Files/CDF_Distribution/cdf38_1-dist/lib\"\n",
    "from spacepy import pycdf"
   ]
  },
  {
   "cell_type": "code",
   "execution_count": 2,
   "id": "65cc0ab7",
   "metadata": {},
   "outputs": [],
   "source": [
    "def data_processing(path):\n",
    "    cdf = pycdf.CDF(\"Downloads\" + path + \".cdf\")\n",
    "    df = pd.DataFrame({\n",
    "        \"BGSM1\":[], \n",
    "        \"BGSM2\":[], \n",
    "        \"BGSM3\":[],\n",
    "        \"BGSE1\":[],\n",
    "        \"BGSE2\":[],\n",
    "        \"BGSE3\":[],\n",
    "        \"Range\":[],\n",
    "        \"Label\":[]\n",
    "    })\n",
    "    \n",
    "    startIndex = 0\n",
    "    lst = [0, 0, 0, 0, 0, 0, 0]\n",
    "    counter = 0\n",
    "    \n",
    "    for i in range(len(cdf['Epoch'][:])):\n",
    "        if((cdf['Epoch'][i].item(0) - cdf['Epoch'][startIndex].item(0)).seconds < 1200):\n",
    "            lst[0] += cdf['BGSE'][i][0]\n",
    "            lst[1] += cdf['BGSE'][i][1]\n",
    "            lst[2] += cdf['BGSE'][i][2]\n",
    "            lst[3] += cdf['BGSM'][i][0]\n",
    "            lst[4] += cdf['BGSM'][i][1]\n",
    "            lst[5] += cdf['BGSM'][i][2]\n",
    "            lst[6] += cdf['RANGE'][i]\n",
    "            counter += 1       \n",
    "        else:\n",
    "            dic = {\n",
    "                    \"BGSM1\":[lst[0].item(0)/counter], \n",
    "                    \"BGSM2\":[lst[1].item(0)/counter], \n",
    "                    \"BGSM3\":[lst[2].item(0)/counter],\n",
    "                    \"BGSE1\":[lst[3].item(0)/counter],\n",
    "                    \"BGSE2\":[lst[4].item(0)/counter],\n",
    "                    \"BGSE3\":[lst[5].item(0)/counter],\n",
    "                    \"Range\":[round(lst[6].item(0)/counter)],\n",
    "                    \"Label\":0\n",
    "            }\n",
    "            df_dummy = pd.DataFrame(dic)\n",
    "            df = pd.concat([df, df_dummy])\n",
    "            startIndex = i\n",
    "            lst = [0, 0, 0, 0, 0, 0, 0]\n",
    "            counter = 0\n",
    "    df = df.reset_index()\n",
    "    df = df.drop(['index'], axis=1)\n",
    "    df.to_csv(\"CSV/{path}.csv\".format(path = path))"
   ]
  },
  {
   "cell_type": "code",
   "execution_count": 4,
   "id": "d8bcd589",
   "metadata": {},
   "outputs": [
    {
     "name": "stdout",
     "output_type": "stream",
     "text": [
      "20040414\n",
      "20040415\n"
     ]
    }
   ],
   "source": [
    "general = 'wi_h2_mfi_'\n",
    "version = '05'\n",
    "year = '2004'\n",
    "month = '04'\n",
    "        \n",
    "for d in range(14, 16):\n",
    "    if d < 10:\n",
    "        day = '0' + str(d)\n",
    "    else:\n",
    "        day = str(d)\n",
    "                    \n",
    "    string = 'https://cdaweb.gsfc.nasa.gov/pub/data/wind/mfi/mfi_h2/{year}/wi_h2_mfi_{year}{month}{day}_v{version}.cdf'.format(\n",
    "        year = year, month = month, day = day, version = version)\n",
    "    response = requests.get(string)\n",
    "    path = \"/{general}{year}{month}{day}_v{version}\".format(\n",
    "        general = general, year = year, month = month, day = day, version = version)\n",
    "    open(\"Downloads\" + path + \".cdf\", \"wb\").write(response.content)\n",
    "    data_processing(path)\n",
    "    print(\"{}{}{}\".format(year, month, day))"
   ]
  },
  {
   "cell_type": "code",
   "execution_count": null,
   "id": "38b70045",
   "metadata": {},
   "outputs": [],
   "source": []
  },
  {
   "cell_type": "code",
   "execution_count": null,
   "id": "d6884015",
   "metadata": {},
   "outputs": [],
   "source": []
  },
  {
   "cell_type": "code",
   "execution_count": null,
   "id": "3a9064b8",
   "metadata": {},
   "outputs": [],
   "source": []
  }
 ],
 "metadata": {
  "kernelspec": {
   "display_name": "Python 3 (ipykernel)",
   "language": "python",
   "name": "python3"
  },
  "language_info": {
   "codemirror_mode": {
    "name": "ipython",
    "version": 3
   },
   "file_extension": ".py",
   "mimetype": "text/x-python",
   "name": "python",
   "nbconvert_exporter": "python",
   "pygments_lexer": "ipython3",
   "version": "3.9.12"
  }
 },
 "nbformat": 4,
 "nbformat_minor": 5
}
