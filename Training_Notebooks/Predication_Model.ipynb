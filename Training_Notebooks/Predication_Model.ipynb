{
  "nbformat": 4,
  "nbformat_minor": 0,
  "metadata": {
    "colab": {
      "provenance": [],
      "collapsed_sections": []
    },
    "kernelspec": {
      "name": "python3",
      "display_name": "Python 3"
    },
    "language_info": {
      "name": "python"
    },
    "accelerator": "GPU"
  },
  "cells": [
    {
      "cell_type": "code",
      "source": [
        "import numpy as np\n",
        "import pandas as pd\n",
        "import matplotlib.pyplot as plt\n",
        "import seaborn as sns\n",
        "\n",
        "from sklearn.model_selection import train_test_split\n",
        "from sklearn.metrics import f1_score\n",
        "\n",
        "import tensorflow\n",
        "from tensorflow import keras\n",
        "from tensorflow.keras.models import Model, load_model\n",
        "from tensorflow.keras.layers import Dense, Flatten, Input, Dropout, LSTM\n",
        "from tensorflow.keras.callbacks import EarlyStopping, ModelCheckpoint"
      ],
      "metadata": {
        "id": "fCUkd2iGN_kW"
      },
      "execution_count": 1,
      "outputs": []
    },
    {
      "cell_type": "code",
      "source": [
        "from google.colab import drive\n",
        "drive.mount('/content/drive')"
      ],
      "metadata": {
        "colab": {
          "base_uri": "https://localhost:8080/"
        },
        "id": "6CG8BcXo9xkQ",
        "outputId": "9fd880ac-38c7-4f7e-9e43-d2de9c75c964"
      },
      "execution_count": 2,
      "outputs": [
        {
          "output_type": "stream",
          "name": "stdout",
          "text": [
            "Drive already mounted at /content/drive; to attempt to forcibly remount, call drive.mount(\"/content/drive\", force_remount=True).\n"
          ]
        }
      ]
    },
    {
      "cell_type": "markdown",
      "source": [
        "## Pre-processing"
      ],
      "metadata": {
        "id": "EzafXwMePVJ0"
      }
    },
    {
      "cell_type": "code",
      "source": [
        "df = pd.read_csv(r\"/content/drive/MyDrive/Nasa_Space_Apps/data.csv\")\n",
        "df.head()"
      ],
      "metadata": {
        "id": "yI0YHvZuPUha",
        "colab": {
          "base_uri": "https://localhost:8080/",
          "height": 206
        },
        "outputId": "9e13a934-d1f7-4730-eb95-9a567a188d69"
      },
      "execution_count": 3,
      "outputs": [
        {
          "output_type": "execute_result",
          "data": {
            "text/plain": [
              "   Unnamed: 0  index     BGSM1      BGSM2     BGSM3     BGSE1     BGSE2  \\\n",
              "0           0      0  6.396383 -10.167744 -2.116706  6.396373 -9.142916   \n",
              "1           1      1  6.330517  -7.975523 -8.170177  6.330477 -5.355678   \n",
              "2           2      2  8.211111  -8.562181  1.172102  8.211116 -8.563263   \n",
              "3           3      3  9.740716  -5.876574  1.389820  9.740722 -6.025173   \n",
              "4           4      4  8.951678 -10.197670  0.271943  8.951679 -9.935565   \n",
              "\n",
              "       BGSE3  Range  Label  \n",
              "0  -4.936532    2.0    0.0  \n",
              "1 -10.082820    2.0    0.0  \n",
              "2  -1.225468    2.0    0.0  \n",
              "3  -0.228289    2.0    0.0  \n",
              "4  -2.366858    2.0    0.0  "
            ],
            "text/html": [
              "\n",
              "  <div id=\"df-6003d276-94d8-48ce-8f63-7a4e7ae27c6a\">\n",
              "    <div class=\"colab-df-container\">\n",
              "      <div>\n",
              "<style scoped>\n",
              "    .dataframe tbody tr th:only-of-type {\n",
              "        vertical-align: middle;\n",
              "    }\n",
              "\n",
              "    .dataframe tbody tr th {\n",
              "        vertical-align: top;\n",
              "    }\n",
              "\n",
              "    .dataframe thead th {\n",
              "        text-align: right;\n",
              "    }\n",
              "</style>\n",
              "<table border=\"1\" class=\"dataframe\">\n",
              "  <thead>\n",
              "    <tr style=\"text-align: right;\">\n",
              "      <th></th>\n",
              "      <th>Unnamed: 0</th>\n",
              "      <th>index</th>\n",
              "      <th>BGSM1</th>\n",
              "      <th>BGSM2</th>\n",
              "      <th>BGSM3</th>\n",
              "      <th>BGSE1</th>\n",
              "      <th>BGSE2</th>\n",
              "      <th>BGSE3</th>\n",
              "      <th>Range</th>\n",
              "      <th>Label</th>\n",
              "    </tr>\n",
              "  </thead>\n",
              "  <tbody>\n",
              "    <tr>\n",
              "      <th>0</th>\n",
              "      <td>0</td>\n",
              "      <td>0</td>\n",
              "      <td>6.396383</td>\n",
              "      <td>-10.167744</td>\n",
              "      <td>-2.116706</td>\n",
              "      <td>6.396373</td>\n",
              "      <td>-9.142916</td>\n",
              "      <td>-4.936532</td>\n",
              "      <td>2.0</td>\n",
              "      <td>0.0</td>\n",
              "    </tr>\n",
              "    <tr>\n",
              "      <th>1</th>\n",
              "      <td>1</td>\n",
              "      <td>1</td>\n",
              "      <td>6.330517</td>\n",
              "      <td>-7.975523</td>\n",
              "      <td>-8.170177</td>\n",
              "      <td>6.330477</td>\n",
              "      <td>-5.355678</td>\n",
              "      <td>-10.082820</td>\n",
              "      <td>2.0</td>\n",
              "      <td>0.0</td>\n",
              "    </tr>\n",
              "    <tr>\n",
              "      <th>2</th>\n",
              "      <td>2</td>\n",
              "      <td>2</td>\n",
              "      <td>8.211111</td>\n",
              "      <td>-8.562181</td>\n",
              "      <td>1.172102</td>\n",
              "      <td>8.211116</td>\n",
              "      <td>-8.563263</td>\n",
              "      <td>-1.225468</td>\n",
              "      <td>2.0</td>\n",
              "      <td>0.0</td>\n",
              "    </tr>\n",
              "    <tr>\n",
              "      <th>3</th>\n",
              "      <td>3</td>\n",
              "      <td>3</td>\n",
              "      <td>9.740716</td>\n",
              "      <td>-5.876574</td>\n",
              "      <td>1.389820</td>\n",
              "      <td>9.740722</td>\n",
              "      <td>-6.025173</td>\n",
              "      <td>-0.228289</td>\n",
              "      <td>2.0</td>\n",
              "      <td>0.0</td>\n",
              "    </tr>\n",
              "    <tr>\n",
              "      <th>4</th>\n",
              "      <td>4</td>\n",
              "      <td>4</td>\n",
              "      <td>8.951678</td>\n",
              "      <td>-10.197670</td>\n",
              "      <td>0.271943</td>\n",
              "      <td>8.951679</td>\n",
              "      <td>-9.935565</td>\n",
              "      <td>-2.366858</td>\n",
              "      <td>2.0</td>\n",
              "      <td>0.0</td>\n",
              "    </tr>\n",
              "  </tbody>\n",
              "</table>\n",
              "</div>\n",
              "      <button class=\"colab-df-convert\" onclick=\"convertToInteractive('df-6003d276-94d8-48ce-8f63-7a4e7ae27c6a')\"\n",
              "              title=\"Convert this dataframe to an interactive table.\"\n",
              "              style=\"display:none;\">\n",
              "        \n",
              "  <svg xmlns=\"http://www.w3.org/2000/svg\" height=\"24px\"viewBox=\"0 0 24 24\"\n",
              "       width=\"24px\">\n",
              "    <path d=\"M0 0h24v24H0V0z\" fill=\"none\"/>\n",
              "    <path d=\"M18.56 5.44l.94 2.06.94-2.06 2.06-.94-2.06-.94-.94-2.06-.94 2.06-2.06.94zm-11 1L8.5 8.5l.94-2.06 2.06-.94-2.06-.94L8.5 2.5l-.94 2.06-2.06.94zm10 10l.94 2.06.94-2.06 2.06-.94-2.06-.94-.94-2.06-.94 2.06-2.06.94z\"/><path d=\"M17.41 7.96l-1.37-1.37c-.4-.4-.92-.59-1.43-.59-.52 0-1.04.2-1.43.59L10.3 9.45l-7.72 7.72c-.78.78-.78 2.05 0 2.83L4 21.41c.39.39.9.59 1.41.59.51 0 1.02-.2 1.41-.59l7.78-7.78 2.81-2.81c.8-.78.8-2.07 0-2.86zM5.41 20L4 18.59l7.72-7.72 1.47 1.35L5.41 20z\"/>\n",
              "  </svg>\n",
              "      </button>\n",
              "      \n",
              "  <style>\n",
              "    .colab-df-container {\n",
              "      display:flex;\n",
              "      flex-wrap:wrap;\n",
              "      gap: 12px;\n",
              "    }\n",
              "\n",
              "    .colab-df-convert {\n",
              "      background-color: #E8F0FE;\n",
              "      border: none;\n",
              "      border-radius: 50%;\n",
              "      cursor: pointer;\n",
              "      display: none;\n",
              "      fill: #1967D2;\n",
              "      height: 32px;\n",
              "      padding: 0 0 0 0;\n",
              "      width: 32px;\n",
              "    }\n",
              "\n",
              "    .colab-df-convert:hover {\n",
              "      background-color: #E2EBFA;\n",
              "      box-shadow: 0px 1px 2px rgba(60, 64, 67, 0.3), 0px 1px 3px 1px rgba(60, 64, 67, 0.15);\n",
              "      fill: #174EA6;\n",
              "    }\n",
              "\n",
              "    [theme=dark] .colab-df-convert {\n",
              "      background-color: #3B4455;\n",
              "      fill: #D2E3FC;\n",
              "    }\n",
              "\n",
              "    [theme=dark] .colab-df-convert:hover {\n",
              "      background-color: #434B5C;\n",
              "      box-shadow: 0px 1px 3px 1px rgba(0, 0, 0, 0.15);\n",
              "      filter: drop-shadow(0px 1px 2px rgba(0, 0, 0, 0.3));\n",
              "      fill: #FFFFFF;\n",
              "    }\n",
              "  </style>\n",
              "\n",
              "      <script>\n",
              "        const buttonEl =\n",
              "          document.querySelector('#df-6003d276-94d8-48ce-8f63-7a4e7ae27c6a button.colab-df-convert');\n",
              "        buttonEl.style.display =\n",
              "          google.colab.kernel.accessAllowed ? 'block' : 'none';\n",
              "\n",
              "        async function convertToInteractive(key) {\n",
              "          const element = document.querySelector('#df-6003d276-94d8-48ce-8f63-7a4e7ae27c6a');\n",
              "          const dataTable =\n",
              "            await google.colab.kernel.invokeFunction('convertToInteractive',\n",
              "                                                     [key], {});\n",
              "          if (!dataTable) return;\n",
              "\n",
              "          const docLinkHtml = 'Like what you see? Visit the ' +\n",
              "            '<a target=\"_blank\" href=https://colab.research.google.com/notebooks/data_table.ipynb>data table notebook</a>'\n",
              "            + ' to learn more about interactive tables.';\n",
              "          element.innerHTML = '';\n",
              "          dataTable['output_type'] = 'display_data';\n",
              "          await google.colab.output.renderOutput(dataTable, element);\n",
              "          const docLink = document.createElement('div');\n",
              "          docLink.innerHTML = docLinkHtml;\n",
              "          element.appendChild(docLink);\n",
              "        }\n",
              "      </script>\n",
              "    </div>\n",
              "  </div>\n",
              "  "
            ]
          },
          "metadata": {},
          "execution_count": 3
        }
      ]
    },
    {
      "cell_type": "code",
      "source": [
        "df = df.drop(['index', 'Unnamed: 0'], axis = 1)"
      ],
      "metadata": {
        "id": "yFgQ40SBPUs3"
      },
      "execution_count": 4,
      "outputs": []
    },
    {
      "cell_type": "code",
      "source": [
        "df.head()"
      ],
      "metadata": {
        "id": "54b19UYoPX2u",
        "colab": {
          "base_uri": "https://localhost:8080/",
          "height": 206
        },
        "outputId": "e3d41139-bf51-4407-a936-815d245f2fad"
      },
      "execution_count": 5,
      "outputs": [
        {
          "output_type": "execute_result",
          "data": {
            "text/plain": [
              "      BGSM1      BGSM2     BGSM3     BGSE1     BGSE2      BGSE3  Range  Label\n",
              "0  6.396383 -10.167744 -2.116706  6.396373 -9.142916  -4.936532    2.0    0.0\n",
              "1  6.330517  -7.975523 -8.170177  6.330477 -5.355678 -10.082820    2.0    0.0\n",
              "2  8.211111  -8.562181  1.172102  8.211116 -8.563263  -1.225468    2.0    0.0\n",
              "3  9.740716  -5.876574  1.389820  9.740722 -6.025173  -0.228289    2.0    0.0\n",
              "4  8.951678 -10.197670  0.271943  8.951679 -9.935565  -2.366858    2.0    0.0"
            ],
            "text/html": [
              "\n",
              "  <div id=\"df-af9204f4-8d51-492c-a1c7-baa949071609\">\n",
              "    <div class=\"colab-df-container\">\n",
              "      <div>\n",
              "<style scoped>\n",
              "    .dataframe tbody tr th:only-of-type {\n",
              "        vertical-align: middle;\n",
              "    }\n",
              "\n",
              "    .dataframe tbody tr th {\n",
              "        vertical-align: top;\n",
              "    }\n",
              "\n",
              "    .dataframe thead th {\n",
              "        text-align: right;\n",
              "    }\n",
              "</style>\n",
              "<table border=\"1\" class=\"dataframe\">\n",
              "  <thead>\n",
              "    <tr style=\"text-align: right;\">\n",
              "      <th></th>\n",
              "      <th>BGSM1</th>\n",
              "      <th>BGSM2</th>\n",
              "      <th>BGSM3</th>\n",
              "      <th>BGSE1</th>\n",
              "      <th>BGSE2</th>\n",
              "      <th>BGSE3</th>\n",
              "      <th>Range</th>\n",
              "      <th>Label</th>\n",
              "    </tr>\n",
              "  </thead>\n",
              "  <tbody>\n",
              "    <tr>\n",
              "      <th>0</th>\n",
              "      <td>6.396383</td>\n",
              "      <td>-10.167744</td>\n",
              "      <td>-2.116706</td>\n",
              "      <td>6.396373</td>\n",
              "      <td>-9.142916</td>\n",
              "      <td>-4.936532</td>\n",
              "      <td>2.0</td>\n",
              "      <td>0.0</td>\n",
              "    </tr>\n",
              "    <tr>\n",
              "      <th>1</th>\n",
              "      <td>6.330517</td>\n",
              "      <td>-7.975523</td>\n",
              "      <td>-8.170177</td>\n",
              "      <td>6.330477</td>\n",
              "      <td>-5.355678</td>\n",
              "      <td>-10.082820</td>\n",
              "      <td>2.0</td>\n",
              "      <td>0.0</td>\n",
              "    </tr>\n",
              "    <tr>\n",
              "      <th>2</th>\n",
              "      <td>8.211111</td>\n",
              "      <td>-8.562181</td>\n",
              "      <td>1.172102</td>\n",
              "      <td>8.211116</td>\n",
              "      <td>-8.563263</td>\n",
              "      <td>-1.225468</td>\n",
              "      <td>2.0</td>\n",
              "      <td>0.0</td>\n",
              "    </tr>\n",
              "    <tr>\n",
              "      <th>3</th>\n",
              "      <td>9.740716</td>\n",
              "      <td>-5.876574</td>\n",
              "      <td>1.389820</td>\n",
              "      <td>9.740722</td>\n",
              "      <td>-6.025173</td>\n",
              "      <td>-0.228289</td>\n",
              "      <td>2.0</td>\n",
              "      <td>0.0</td>\n",
              "    </tr>\n",
              "    <tr>\n",
              "      <th>4</th>\n",
              "      <td>8.951678</td>\n",
              "      <td>-10.197670</td>\n",
              "      <td>0.271943</td>\n",
              "      <td>8.951679</td>\n",
              "      <td>-9.935565</td>\n",
              "      <td>-2.366858</td>\n",
              "      <td>2.0</td>\n",
              "      <td>0.0</td>\n",
              "    </tr>\n",
              "  </tbody>\n",
              "</table>\n",
              "</div>\n",
              "      <button class=\"colab-df-convert\" onclick=\"convertToInteractive('df-af9204f4-8d51-492c-a1c7-baa949071609')\"\n",
              "              title=\"Convert this dataframe to an interactive table.\"\n",
              "              style=\"display:none;\">\n",
              "        \n",
              "  <svg xmlns=\"http://www.w3.org/2000/svg\" height=\"24px\"viewBox=\"0 0 24 24\"\n",
              "       width=\"24px\">\n",
              "    <path d=\"M0 0h24v24H0V0z\" fill=\"none\"/>\n",
              "    <path d=\"M18.56 5.44l.94 2.06.94-2.06 2.06-.94-2.06-.94-.94-2.06-.94 2.06-2.06.94zm-11 1L8.5 8.5l.94-2.06 2.06-.94-2.06-.94L8.5 2.5l-.94 2.06-2.06.94zm10 10l.94 2.06.94-2.06 2.06-.94-2.06-.94-.94-2.06-.94 2.06-2.06.94z\"/><path d=\"M17.41 7.96l-1.37-1.37c-.4-.4-.92-.59-1.43-.59-.52 0-1.04.2-1.43.59L10.3 9.45l-7.72 7.72c-.78.78-.78 2.05 0 2.83L4 21.41c.39.39.9.59 1.41.59.51 0 1.02-.2 1.41-.59l7.78-7.78 2.81-2.81c.8-.78.8-2.07 0-2.86zM5.41 20L4 18.59l7.72-7.72 1.47 1.35L5.41 20z\"/>\n",
              "  </svg>\n",
              "      </button>\n",
              "      \n",
              "  <style>\n",
              "    .colab-df-container {\n",
              "      display:flex;\n",
              "      flex-wrap:wrap;\n",
              "      gap: 12px;\n",
              "    }\n",
              "\n",
              "    .colab-df-convert {\n",
              "      background-color: #E8F0FE;\n",
              "      border: none;\n",
              "      border-radius: 50%;\n",
              "      cursor: pointer;\n",
              "      display: none;\n",
              "      fill: #1967D2;\n",
              "      height: 32px;\n",
              "      padding: 0 0 0 0;\n",
              "      width: 32px;\n",
              "    }\n",
              "\n",
              "    .colab-df-convert:hover {\n",
              "      background-color: #E2EBFA;\n",
              "      box-shadow: 0px 1px 2px rgba(60, 64, 67, 0.3), 0px 1px 3px 1px rgba(60, 64, 67, 0.15);\n",
              "      fill: #174EA6;\n",
              "    }\n",
              "\n",
              "    [theme=dark] .colab-df-convert {\n",
              "      background-color: #3B4455;\n",
              "      fill: #D2E3FC;\n",
              "    }\n",
              "\n",
              "    [theme=dark] .colab-df-convert:hover {\n",
              "      background-color: #434B5C;\n",
              "      box-shadow: 0px 1px 3px 1px rgba(0, 0, 0, 0.15);\n",
              "      filter: drop-shadow(0px 1px 2px rgba(0, 0, 0, 0.3));\n",
              "      fill: #FFFFFF;\n",
              "    }\n",
              "  </style>\n",
              "\n",
              "      <script>\n",
              "        const buttonEl =\n",
              "          document.querySelector('#df-af9204f4-8d51-492c-a1c7-baa949071609 button.colab-df-convert');\n",
              "        buttonEl.style.display =\n",
              "          google.colab.kernel.accessAllowed ? 'block' : 'none';\n",
              "\n",
              "        async function convertToInteractive(key) {\n",
              "          const element = document.querySelector('#df-af9204f4-8d51-492c-a1c7-baa949071609');\n",
              "          const dataTable =\n",
              "            await google.colab.kernel.invokeFunction('convertToInteractive',\n",
              "                                                     [key], {});\n",
              "          if (!dataTable) return;\n",
              "\n",
              "          const docLinkHtml = 'Like what you see? Visit the ' +\n",
              "            '<a target=\"_blank\" href=https://colab.research.google.com/notebooks/data_table.ipynb>data table notebook</a>'\n",
              "            + ' to learn more about interactive tables.';\n",
              "          element.innerHTML = '';\n",
              "          dataTable['output_type'] = 'display_data';\n",
              "          await google.colab.output.renderOutput(dataTable, element);\n",
              "          const docLink = document.createElement('div');\n",
              "          docLink.innerHTML = docLinkHtml;\n",
              "          element.appendChild(docLink);\n",
              "        }\n",
              "      </script>\n",
              "    </div>\n",
              "  </div>\n",
              "  "
            ]
          },
          "metadata": {},
          "execution_count": 5
        }
      ]
    },
    {
      "cell_type": "code",
      "source": [
        "df['Label'].value_counts()"
      ],
      "metadata": {
        "id": "YrNGOnGbOS8-",
        "colab": {
          "base_uri": "https://localhost:8080/"
        },
        "outputId": "a85af396-10fa-4f57-8120-0c7f9ebfd7c1"
      },
      "execution_count": 6,
      "outputs": [
        {
          "output_type": "execute_result",
          "data": {
            "text/plain": [
              "0.0    31304\n",
              "1.0     1001\n",
              "2.0      347\n",
              "Name: Label, dtype: int64"
            ]
          },
          "metadata": {},
          "execution_count": 6
        }
      ]
    },
    {
      "cell_type": "code",
      "source": [
        "y = df[['Label', 'Range']]\n",
        "X = df.drop(['Label', 'Range'], axis=1)"
      ],
      "metadata": {
        "id": "GY-Ur0pM--Db"
      },
      "execution_count": 7,
      "outputs": []
    },
    {
      "cell_type": "code",
      "source": [
        "X_train, X_test, y_train, y_test = train_test_split(X, y, test_size=0.2, random_state=42)"
      ],
      "metadata": {
        "id": "4Ae5u90w-bdG"
      },
      "execution_count": 8,
      "outputs": []
    },
    {
      "cell_type": "code",
      "source": [
        "y_train_range = y_train['Range']\n",
        "y_train = y_train['Label']\n",
        "\n",
        "y_test_range = y_test['Range']\n",
        "y_test = y_test['Label']"
      ],
      "metadata": {
        "id": "_8eQ8EDw_eZr"
      },
      "execution_count": 9,
      "outputs": []
    },
    {
      "cell_type": "code",
      "source": [
        "y_train_range = pd.get_dummies(y_train_range).values\n",
        "y_train = pd.get_dummies(y_train).values\n",
        "y_test_range = pd.get_dummies(y_test_range).values\n",
        "y_test = pd.get_dummies(y_test).values"
      ],
      "metadata": {
        "id": "NKIZdfL4KT2-"
      },
      "execution_count": 10,
      "outputs": []
    },
    {
      "cell_type": "code",
      "source": [
        "X_train = np.array(X_train).reshape((X_train.shape[0],X_train.shape[1],1))\n",
        "X_test = np.array(X_test).reshape((X_test.shape[0],X_test.shape[1],1))"
      ],
      "metadata": {
        "id": "3v9XnAmEAccU"
      },
      "execution_count": 11,
      "outputs": []
    },
    {
      "cell_type": "markdown",
      "source": [
        "## Model"
      ],
      "metadata": {
        "id": "Qxm4ACI1PYQc"
      }
    },
    {
      "cell_type": "code",
      "execution_count": 12,
      "metadata": {
        "id": "UsvuuDrSNH1r"
      },
      "outputs": [],
      "source": [
        "input1 = Input(shape = (X_train.shape[1], 1))\n",
        "x = LSTM(256, return_sequences=True)(input1)\n",
        "x = Flatten()(x)\n",
        "x = Dense(64)(x)\n",
        "x = Dropout(0.5)(x)\n",
        "x = Dense(32)(x)\n",
        "output = Dense(3, activation='softmax', name='kp_type')(x)\n",
        "\n",
        "model = Model(inputs=input1, outputs=output)"
      ]
    },
    {
      "cell_type": "code",
      "source": [
        "opt_adam = keras.optimizers.Adam(learning_rate=0.001)\n",
        "\n",
        "model.compile(optimizer=opt_adam,\n",
        "                  loss=['categorical_crossentropy'],\n",
        "                  metrics=['accuracy'])"
      ],
      "metadata": {
        "id": "RpE2gExTO-_r"
      },
      "execution_count": 13,
      "outputs": []
    },
    {
      "cell_type": "code",
      "source": [
        "es = EarlyStopping(monitor='val_loss', mode='min', verbose=1, patience=10)\n",
        "tensorflow.config.run_functions_eagerly(True)"
      ],
      "metadata": {
        "id": "TSlVAyQUHX2Q"
      },
      "execution_count": 14,
      "outputs": []
    },
    {
      "cell_type": "code",
      "source": [
        "model_history = model.fit(X_train, y_train,\n",
        "         validation_data=(X_test, y_test),\n",
        "         batch_size = 32,\n",
        "         epochs = 15,\n",
        "         callbacks=[es], verbose = 2)"
      ],
      "metadata": {
        "id": "mR6P0hP8PvF5",
        "colab": {
          "base_uri": "https://localhost:8080/"
        },
        "outputId": "e62c7f8a-5d70-41ce-9102-074d37db1581"
      },
      "execution_count": 15,
      "outputs": [
        {
          "output_type": "stream",
          "name": "stdout",
          "text": [
            "Epoch 1/15\n"
          ]
        },
        {
          "output_type": "stream",
          "name": "stderr",
          "text": [
            "/usr/local/lib/python3.7/dist-packages/tensorflow/python/data/ops/structured_function.py:265: UserWarning: Even though the `tf.config.experimental_run_functions_eagerly` option is set, this option does not apply to tf.data functions. To force eager execution of tf.data functions, please use `tf.data.experimental.enable_debug_mode()`.\n",
            "  \"Even though the `tf.config.experimental_run_functions_eagerly` \"\n"
          ]
        },
        {
          "output_type": "stream",
          "name": "stdout",
          "text": [
            "817/817 - 26s - loss: 0.1631 - accuracy: 0.9597 - val_loss: 0.1311 - val_accuracy: 0.9668 - 26s/epoch - 32ms/step\n",
            "Epoch 2/15\n",
            "817/817 - 21s - loss: 0.1268 - accuracy: 0.9648 - val_loss: 0.1191 - val_accuracy: 0.9677 - 21s/epoch - 26ms/step\n",
            "Epoch 3/15\n",
            "817/817 - 23s - loss: 0.1258 - accuracy: 0.9652 - val_loss: 0.1180 - val_accuracy: 0.9686 - 23s/epoch - 28ms/step\n",
            "Epoch 4/15\n",
            "817/817 - 31s - loss: 0.1233 - accuracy: 0.9666 - val_loss: 0.1204 - val_accuracy: 0.9677 - 31s/epoch - 38ms/step\n",
            "Epoch 5/15\n",
            "817/817 - 25s - loss: 0.1222 - accuracy: 0.9660 - val_loss: 0.1187 - val_accuracy: 0.9674 - 25s/epoch - 31ms/step\n",
            "Epoch 6/15\n",
            "817/817 - 27s - loss: 0.1194 - accuracy: 0.9665 - val_loss: 0.1181 - val_accuracy: 0.9688 - 27s/epoch - 33ms/step\n",
            "Epoch 7/15\n",
            "817/817 - 25s - loss: 0.1195 - accuracy: 0.9668 - val_loss: 0.1218 - val_accuracy: 0.9680 - 25s/epoch - 31ms/step\n",
            "Epoch 8/15\n",
            "817/817 - 23s - loss: 0.1170 - accuracy: 0.9669 - val_loss: 0.1160 - val_accuracy: 0.9678 - 23s/epoch - 28ms/step\n",
            "Epoch 9/15\n",
            "817/817 - 23s - loss: 0.1157 - accuracy: 0.9678 - val_loss: 0.1160 - val_accuracy: 0.9698 - 23s/epoch - 28ms/step\n",
            "Epoch 10/15\n",
            "817/817 - 21s - loss: 0.1147 - accuracy: 0.9686 - val_loss: 0.1247 - val_accuracy: 0.9683 - 21s/epoch - 25ms/step\n",
            "Epoch 11/15\n",
            "817/817 - 23s - loss: 0.1134 - accuracy: 0.9685 - val_loss: 0.1145 - val_accuracy: 0.9703 - 23s/epoch - 28ms/step\n",
            "Epoch 12/15\n",
            "817/817 - 21s - loss: 0.1125 - accuracy: 0.9691 - val_loss: 0.1147 - val_accuracy: 0.9695 - 21s/epoch - 25ms/step\n",
            "Epoch 13/15\n",
            "817/817 - 21s - loss: 0.1109 - accuracy: 0.9694 - val_loss: 0.1136 - val_accuracy: 0.9700 - 21s/epoch - 26ms/step\n",
            "Epoch 14/15\n",
            "817/817 - 23s - loss: 0.1101 - accuracy: 0.9698 - val_loss: 0.1121 - val_accuracy: 0.9717 - 23s/epoch - 28ms/step\n",
            "Epoch 15/15\n",
            "817/817 - 23s - loss: 0.1092 - accuracy: 0.9701 - val_loss: 0.1129 - val_accuracy: 0.9703 - 23s/epoch - 28ms/step\n"
          ]
        }
      ]
    },
    {
      "cell_type": "code",
      "source": [
        "model.evaluate(X_test, y_test)"
      ],
      "metadata": {
        "id": "-qfPdKwcHZ0k",
        "colab": {
          "base_uri": "https://localhost:8080/"
        },
        "outputId": "3662dc09-d8ab-4758-ba07-0ebc8ea54411"
      },
      "execution_count": 16,
      "outputs": [
        {
          "output_type": "stream",
          "name": "stdout",
          "text": [
            "205/205 [==============================] - 3s 15ms/step - loss: 0.1129 - accuracy: 0.9703\n"
          ]
        },
        {
          "output_type": "execute_result",
          "data": {
            "text/plain": [
              "[0.11289668828248978, 0.9702954888343811]"
            ]
          },
          "metadata": {},
          "execution_count": 16
        }
      ]
    },
    {
      "cell_type": "code",
      "source": [
        "model.predict(X_train[0].reshape(1, 6, 1))"
      ],
      "metadata": {
        "colab": {
          "base_uri": "https://localhost:8080/"
        },
        "id": "tYVF5uV0KyP-",
        "outputId": "36d749d8-7973-4a84-a126-bcc4a7518ad7"
      },
      "execution_count": 17,
      "outputs": [
        {
          "output_type": "execute_result",
          "data": {
            "text/plain": [
              "array([[9.9589133e-01, 3.4771475e-03, 6.3145475e-04]], dtype=float32)"
            ]
          },
          "metadata": {},
          "execution_count": 17
        }
      ]
    },
    {
      "cell_type": "code",
      "source": [
        "model.save(\"predication_model.h5\")"
      ],
      "metadata": {
        "id": "aO1K1xJJMYSB"
      },
      "execution_count": 18,
      "outputs": []
    },
    {
      "cell_type": "code",
      "source": [
        "y_pred = model.predict(X_test)\n",
        "y_pred.shape"
      ],
      "metadata": {
        "colab": {
          "base_uri": "https://localhost:8080/"
        },
        "id": "lIQ4K5vMCpE4",
        "outputId": "ac325e6b-f055-41a5-d158-afac668ce768"
      },
      "execution_count": 19,
      "outputs": [
        {
          "output_type": "execute_result",
          "data": {
            "text/plain": [
              "(6531, 3)"
            ]
          },
          "metadata": {},
          "execution_count": 19
        }
      ]
    },
    {
      "cell_type": "code",
      "source": [
        "np.argmax(y_pred, axis = 1).shape"
      ],
      "metadata": {
        "colab": {
          "base_uri": "https://localhost:8080/"
        },
        "id": "WNyU4UxmH7Gf",
        "outputId": "8bc573c5-6b5c-4893-ae18-6d320ff88b53"
      },
      "execution_count": 20,
      "outputs": [
        {
          "output_type": "execute_result",
          "data": {
            "text/plain": [
              "(6531,)"
            ]
          },
          "metadata": {},
          "execution_count": 20
        }
      ]
    },
    {
      "cell_type": "code",
      "source": [
        "f1_score(np.argmax(y_test, axis = 1), np.argmax(y_pred, axis = 1), average='micro')"
      ],
      "metadata": {
        "colab": {
          "base_uri": "https://localhost:8080/"
        },
        "id": "iWEz7B7PHVO9",
        "outputId": "13f2db50-7897-4b4c-90d6-9875058ca12f"
      },
      "execution_count": 21,
      "outputs": [
        {
          "output_type": "execute_result",
          "data": {
            "text/plain": [
              "0.9702955137038738"
            ]
          },
          "metadata": {},
          "execution_count": 21
        }
      ]
    },
    {
      "cell_type": "code",
      "source": [
        "from sklearn.metrics import confusion_matrix\n",
        "confusion_matrix(np.argmax(y_test, axis = 1), np.argmax(y_pred, axis = 1))"
      ],
      "metadata": {
        "colab": {
          "base_uri": "https://localhost:8080/"
        },
        "id": "MslvqT1JHiYk",
        "outputId": "01d720d3-79db-4ce2-9a3b-4e003e5e959d"
      },
      "execution_count": 25,
      "outputs": [
        {
          "output_type": "execute_result",
          "data": {
            "text/plain": [
              "array([[6252,   14,    0],\n",
              "       [ 150,   39,    2],\n",
              "       [  19,    9,   46]])"
            ]
          },
          "metadata": {},
          "execution_count": 25
        }
      ]
    },
    {
      "cell_type": "code",
      "source": [],
      "metadata": {
        "id": "8PBBANLVOABH"
      },
      "execution_count": null,
      "outputs": []
    }
  ]
}